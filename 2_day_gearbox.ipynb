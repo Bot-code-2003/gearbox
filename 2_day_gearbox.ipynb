{
 "cells": [
  {
   "cell_type": "code",
   "execution_count": null,
   "id": "75f35aa1",
   "metadata": {},
   "outputs": [],
   "source": [
    "import pandas as pd\n",
    "import numpy as np\n",
    "import tensorflow as tf\n",
    "from tensorflow.keras.models import Sequential\n",
    "from tensorflow.keras.layers import LSTM, Dense, Dropout, BatchNormalization, Conv1D, MaxPooling1D, Bidirectional, Layer\n",
    "from tensorflow.keras.optimizers import Adam\n",
    "from tensorflow.keras.callbacks import EarlyStopping, ReduceLROnPlateau\n",
    "from sklearn.preprocessing import RobustScaler, LabelEncoder\n",
    "from sklearn.metrics import mean_absolute_error, mean_squared_error, r2_score\n",
    "from sklearn.model_selection import TimeSeriesSplit\n",
    "import matplotlib.pyplot as plt\n",
    "from datetime import datetime\n",
    "import joblib\n",
    "import warnings\n",
    "warnings.filterwarnings('ignore')\n",
    "from tensorflow.keras import backend as K\n",
    "\n",
    "#Set seeds for reproducibility\n",
    "np.random.seed(42)\n",
    "tf.random.set_seed(42)"
   ]
  },
  {
   "cell_type": "code",
   "execution_count": null,
   "id": "ff383bbd",
   "metadata": {},
   "outputs": [
    {
     "name": "stdout",
     "output_type": "stream",
     "text": [
      "📥 Loading data...\n",
      "🔄 Initial shape: (210698, 319)\n",
      "🧯 Duplicate timestamps found: 24\n",
      "Dups dropped!\n"
     ]
    }
   ],
   "source": [
    "# Load and preprocess data with timestamp fixing\n",
    "print(\"📥 Loading data...\")\n",
    "df = pd.read_csv('wt84_with_alarms.csv', parse_dates=['date_time'])\n",
    "df = df.sort_values('date_time')\n",
    "\n",
    "print(f\"🔄 Initial shape: {df.shape}\")\n",
    "\n",
    "# Step 1: remove duplicates\n",
    "dupes = df[df['date_time'].duplicated()]\n",
    "print(f\"🧯 Duplicate timestamps found: {len(dupes)}\")\n",
    "df = df.drop_duplicates(subset='date_time', keep='last')\n",
    "print(\"Dups dropped!\")\n",
    "\n",
    "\n"
   ]
  },
  {
   "cell_type": "code",
   "execution_count": null,
   "id": "b3553a7c",
   "metadata": {},
   "outputs": [
    {
     "name": "stdout",
     "output_type": "stream",
     "text": [
      "✅ Is data in consistent 5-min intervals? False\n"
     ]
    }
   ],
   "source": [
    "df['date_time'] = pd.to_datetime(df['date_time'])\n",
    "df = df.sort_values('date_time')  # ensure it's sorted\n",
    "\n",
    "# Find time differences between rows\n",
    "diffs = df['date_time'].diff().dropna()\n",
    "\n",
    "# Check if all differences are exactly 5 minutes\n",
    "is_5min = (diffs == pd.Timedelta(minutes=5)).all()\n",
    "print(\"✅ Is data in consistent 5-min intervals?\", is_5min)\n"
   ]
  },
  {
   "cell_type": "code",
   "execution_count": 69,
   "id": "4624a440",
   "metadata": {},
   "outputs": [
    {
     "name": "stdout",
     "output_type": "stream",
     "text": [
      "📆 Reindexing to fill missing timestamps...\n",
      "✅ Shape after filling missing intervals: (308800, 319)\n"
     ]
    }
   ],
   "source": [
    "# Step 2: Create full 5-min index\n",
    "print(\"📆 Reindexing to fill missing timestamps...\")\n",
    "full_range = pd.date_range(start=df['date_time'].min(), end=df['date_time'].max(), freq='5min')\n",
    "\n",
    "# Step 3: Reindex\n",
    "df = df.set_index('date_time')\n",
    "df = df.reindex(full_range)\n",
    "\n",
    "# Step 4: Rename and reset index\n",
    "df = df.reset_index().rename(columns={'index': 'date_time'})\n",
    "\n",
    "# Step 5: Fill missing rows using forward and backward fill\n",
    "df = df.fillna(method='ffill').fillna(method='bfill')\n",
    "\n",
    "print(f\"✅ Shape after filling missing intervals: {df.shape}\")"
   ]
  },
  {
   "cell_type": "code",
   "execution_count": 70,
   "id": "391b5fc8",
   "metadata": {},
   "outputs": [],
   "source": [
    "\n",
    "def alarm_feature_engineering(df, alarm_col='alarm_system', time_col='date_time'):\n",
    "    \"\"\"\n",
    "    Create alarm-related features and handle missing values.\n",
    "    \"\"\"\n",
    "    df = df.copy()\n",
    "    \n",
    "    # Calculate hours since last alarm\n",
    "    next_alarms = df[df[alarm_col] == 1][time_col].reset_index(drop=True)\n",
    "    \n",
    "    def compute_hours_since_last_alarm(current_time):\n",
    "        past_alarms = next_alarms[next_alarms < current_time]\n",
    "        return (current_time - past_alarms.iloc[-1]).total_seconds() / 3600 if not past_alarms.empty else np.nan\n",
    "    \n",
    "    df['hours_since_last_alarm'] = df[time_col].apply(compute_hours_since_last_alarm)\n",
    "    df['recent_alarm_flag'] = (df['hours_since_last_alarm'] < 6).astype(int)\n",
    "    df['alarm_frequency_24h'] = df[alarm_col].rolling(window=48).sum()\n",
    "    \n",
    "    # Fill missing values\n",
    "    df['hours_since_last_alarm'] = df['hours_since_last_alarm'].fillna(48)  # Max hours\n",
    "    df['alarm_frequency_24h'] = df['alarm_frequency_24h'].fillna(0)\n",
    "    \n",
    "    # Alarm lags\n",
    "    df['alarm_system_lag_0.5h'] = df[alarm_col].shift(1)\n",
    "    df['alarm_system_lag_2h'] = df[alarm_col].shift(4)\n",
    "    \n",
    "    return df\n",
    "\n",
    "def enhanced_feature_engineering(df, target_col='wtrm_avg_TrmTmp_Gbx', time_col='date_time'):\n",
    "    \"\"\"\n",
    "    Create enhanced features and handle missing values.\n",
    "    \"\"\"\n",
    "    df = df.copy()\n",
    "    \n",
    "    # Critical sensors with extended lags\n",
    "    critical_temp_sensors = [\n",
    "        'wtrm_avg_TrmTmp_GbxBrg452', 'wtrm_avg_TrmTmp_GbxBrg151', 'wtrm_avg_TrmTmp_Gbx'\n",
    "    ]\n",
    "    lag_steps = [1, 2, 4, 8, 16]  # 0.5h, 1h, 2h, 4h, 8h\n",
    "    \n",
    "    for sensor in critical_temp_sensors:\n",
    "        if sensor in df.columns:\n",
    "            for lag in lag_steps:\n",
    "                df[f'{sensor}_lag_{lag*0.5}h'] = df[sensor].shift(lag)\n",
    "            df[f'{sensor}_delta_1h'] = df[sensor] - df[sensor].shift(2)\n",
    "            df[f'{sensor}_delta_4h'] = df[sensor] - df[sensor].shift(8)\n",
    "\n",
    "    df['wtrm_avg_TrmTmp_Gbx_rolling_mean_3.0h'] = df['wtrm_avg_TrmTmp_Gbx'].rolling(window=6).mean()\n",
    "    \n",
    "    # Operational features\n",
    "    essential_ops = ['wgen_avg_Spd', 'wgdc_avg_TriGri_PwrAt', 'wtrm_avg_Gbx_OilPres']\n",
    "    for col in essential_ops:\n",
    "        if col in df.columns:\n",
    "            df[f'{col}_delta_1h'] = df[col] - df[col].shift(2)\n",
    "            df[f'{col}_rolling_mean_6h'] = df[col].rolling(window=12).mean()\n",
    "    \n",
    "    # Time features\n",
    "    df['hour'] = df[time_col].dt.hour + df[time_col].dt.minute / 60\n",
    "    df['hour_sin'] = np.sin(2 * np.pi * df['hour'] / 24)\n",
    "    df['hour_cos'] = np.cos(2 * np.pi * df['hour'] / 24)\n",
    "    df['day_of_week'] = df[time_col].dt.dayofweek\n",
    "    \n",
    "    # NEW: Add seasonal feature (week of year)\n",
    "    df['week_of_year'] = df[time_col].dt.isocalendar().week.astype(int)\n",
    "    df['week_sin'] = np.sin(2 * np.pi * df['week_of_year'] / 52)\n",
    "    df['week_cos'] = np.cos(2 * np.pi * df['week_of_year'] / 52)\n",
    "\n",
    "    df['month'] = df[time_col].dt.month\n",
    "    df['month_sin'] = np.sin(2 * np.pi * df['month'] / 12)\n",
    "    df['month_cos'] = np.cos(2 * np.pi * df['month'] / 12)\n",
    "\n",
    "\n",
    "    # Handle missing values\n",
    "    df = df.fillna(method='ffill').fillna(method='bfill')\n",
    "    df = df.dropna().reset_index(drop=True)\n",
    "    \n",
    "    return df\n",
    "\n",
    "def check_columns_and_missing_values(df, common_features, dataset_name=\"Dataset\"):\n",
    "    \"\"\"\n",
    "    Check available columns and missing values.\n",
    "    \"\"\"\n",
    "    print(f\"\\n🔍 Checking columns and missing values in {dataset_name}...\")\n",
    "    \n",
    "    # Check available features\n",
    "    common_features = [f for f in common_features if f in df.columns]\n",
    "    missing_features = [f for f in common_features if f not in df.columns]\n",
    "    \n",
    "    print(f\"✅ Available features ({len(common_features)}): {common_features}\")\n",
    "    if missing_features:\n",
    "        print(f\"⚠️ Missing features ({len(missing_features)}): {missing_features}\")\n",
    "    \n",
    "    # Check missing values\n",
    "    missing_counts = df.isnull().sum()\n",
    "    missing_percentage = (missing_counts / len(df)) * 100\n",
    "    missing_df = pd.DataFrame({\n",
    "        'MissingCount': missing_counts,\n",
    "        'MissingPercentage (%)': missing_percentage\n",
    "    })\n",
    "    missing_df = missing_df[missing_df.MissingCount > 0].sort_values(by='MissingCount', ascending=False)\n",
    "    \n",
    "    if not missing_df.empty:\n",
    "        print(f\"⚠️ Columns with missing values in {dataset_name}:\")\n",
    "        print(missing_df)\n",
    "    else:\n",
    "        print(f\"✅ No missing values found in {dataset_name}.\")\n",
    "    \n",
    "    return common_features"
   ]
  },
  {
   "cell_type": "code",
   "execution_count": 71,
   "id": "9442c67a",
   "metadata": {},
   "outputs": [
    {
     "name": "stdout",
     "output_type": "stream",
     "text": [
      "\n",
      "🔍 Checking for non-numeric columns in the dataset...\n",
      "Found 4 non-numeric columns:\n",
      "['date_time', 'alarm_desc', 'date_time_end', 'alarm_system']\n"
     ]
    }
   ],
   "source": [
    "print(\"\\n🔍 Checking for non-numeric columns in the dataset...\")\n",
    "non_numeric_cols = df.select_dtypes(exclude=[np.number]).columns.tolist()\n",
    "print(f\"Found {len(non_numeric_cols)} non-numeric columns:\")\n",
    "print(non_numeric_cols)"
   ]
  },
  {
   "cell_type": "code",
   "execution_count": 72,
   "id": "6dadcc90",
   "metadata": {},
   "outputs": [
    {
     "name": "stdout",
     "output_type": "stream",
     "text": [
      "✅ Dropped rows with missing 'alarm_desc'. New shape: (308800, 319)\n"
     ]
    }
   ],
   "source": [
    "df = df.dropna(subset=['alarm_desc'])\n",
    "print(f\"✅ Dropped rows with missing 'alarm_desc'. New shape: {df.shape}\")"
   ]
  },
  {
   "cell_type": "code",
   "execution_count": null,
   "id": "be8f1938",
   "metadata": {},
   "outputs": [],
   "source": [
    "# Encode non-numeric columns\n",
    "if 'alarm_system' in df.columns:\n",
    "    le = LabelEncoder()\n",
    "    df['alarm_system'] = le.fit_transform(df['alarm_system'].astype(str))\n",
    "    joblib.dump(le, 'label_encoder_alarm_system.pkl')"
   ]
  },
  {
   "cell_type": "code",
   "execution_count": 125,
   "id": "41908791",
   "metadata": {},
   "outputs": [
    {
     "name": "stdout",
     "output_type": "stream",
     "text": [
      "🔄 Aggregating data from 5-minute to 15-minute intervals...\n"
     ]
    }
   ],
   "source": [
    "# Aggregate to 15-minute intervals\n",
    "print(\"🔄 Aggregating data from 5-minute to 15-minute intervals...\")\n",
    "numeric_cols = df.select_dtypes(include=[np.number]).columns.tolist()\n",
    "df_numeric = df[['date_time'] + numeric_cols].set_index('date_time').resample('15min').mean()\n",
    "if 'alarm_system' in df.columns:\n",
    "    alarm_30min = df[['date_time', 'alarm_system']].set_index('date_time').resample('15min').max()\n",
    "    df_numeric['alarm_system'] = alarm_30min['alarm_system']\n",
    "df_30min = df_numeric.reset_index()"
   ]
  },
  {
   "cell_type": "code",
   "execution_count": 126,
   "id": "4dd2acf6",
   "metadata": {},
   "outputs": [
    {
     "name": "stdout",
     "output_type": "stream",
     "text": [
      "85th percentile of wtrm_avg_TrmTmp_Gbx: 70.00\n"
     ]
    }
   ],
   "source": [
    "percentile_95 = df_30min['wtrm_avg_TrmTmp_Gbx'].quantile(0.85)\n",
    "print(f\"85th percentile of wtrm_avg_TrmTmp_Gbx: {percentile_95:.2f}\")\n"
   ]
  },
  {
   "cell_type": "code",
   "execution_count": 127,
   "id": "d89b2121",
   "metadata": {},
   "outputs": [
    {
     "data": {
      "image/png": "[encoded data removed]",
      "text/plain": [
       "<Figure size 1000x500 with 1 Axes>"
      ]
     },
     "metadata": {},
     "output_type": "display_data"
    }
   ],
   "source": [
    "import matplotlib.pyplot as plt\n",
    "import seaborn as sns\n",
    "\n",
    "# Calculate 95th percentile\n",
    "percentile_95 = df_30min['wtrm_avg_TrmTmp_Gbx'].quantile(0.85)\n",
    "\n",
    "# Plot distribution\n",
    "plt.figure(figsize=(10, 5))\n",
    "sns.histplot(df['wtrm_avg_TrmTmp_Gbx'], bins=100, kde=True, color='skyblue')\n",
    "\n",
    "# Add vertical line at 95th percentile\n",
    "plt.axvline(percentile_95, color='red', linestyle='--', label=f'85th Percentile ({percentile_95:.2f})')\n",
    "\n",
    "# Labels and legend\n",
    "plt.title('Distribution of wtrm_avg_TrmTmp_Gbx')\n",
    "plt.xlabel('wtrm_avg_TrmTmp_Gbx')\n",
    "plt.ylabel('Frequency')\n",
    "plt.legend()\n",
    "plt.tight_layout()\n",
    "plt.show()\n"
   ]
  },
  {
   "cell_type": "code",
   "execution_count": 77,
   "id": "b4b16225",
   "metadata": {},
   "outputs": [
    {
     "data": {
      "text/html": [
       "<div>\n",
       "<style scoped>\n",
       "    .dataframe tbody tr th:only-of-type {\n",
       "        vertical-align: middle;\n",
       "    }\n",
       "\n",
       "    .dataframe tbody tr th {\n",
       "        vertical-align: top;\n",
       "    }\n",
       "\n",
       "    .dataframe thead th {\n",
       "        text-align: right;\n",
       "    }\n",
       "</style>\n",
       "<table border=\"1\" class=\"dataframe\">\n",
       "  <thead>\n",
       "    <tr style=\"text-align: right;\">\n",
       "      <th></th>\n",
       "      <th>date_time</th>\n",
       "      <th>turbine_id</th>\n",
       "      <th>wgdc_avg_TriGri_PhV_phsA</th>\n",
       "      <th>wgdc_avg_TriGri_PhV_phsB</th>\n",
       "      <th>wgdc_avg_TriGri_PhV_phsC</th>\n",
       "      <th>wgdc_avg_TriGri_PhV</th>\n",
       "      <th>wgdc_avg_TriGri_A_phsA</th>\n",
       "      <th>wgdc_avg_TriGri_A_phsB</th>\n",
       "      <th>wgdc_avg_TriGri_A_phsC</th>\n",
       "      <th>wgdc_avg_TriGri_A</th>\n",
       "      <th>...</th>\n",
       "      <th>wmet_max_MetAlt1_Press</th>\n",
       "      <th>wmet_min_MetAlt1_Hum</th>\n",
       "      <th>wmet_min_DewPTmp</th>\n",
       "      <th>wmet_min_MetAlt1_Press</th>\n",
       "      <th>wmet_sdv_MetAlt1_Hum</th>\n",
       "      <th>wmet_sdv_DewPTmp</th>\n",
       "      <th>wmet_sdv_MetAlt1_Press</th>\n",
       "      <th>alarm_id</th>\n",
       "      <th>availability</th>\n",
       "      <th>alarm_system</th>\n",
       "    </tr>\n",
       "  </thead>\n",
       "  <tbody>\n",
       "    <tr>\n",
       "      <th>0</th>\n",
       "      <td>2012-01-01 01:00:00</td>\n",
       "      <td>84.0</td>\n",
       "      <td>392.476500</td>\n",
       "      <td>390.478500</td>\n",
       "      <td>392.816000</td>\n",
       "      <td>391.489000</td>\n",
       "      <td>393.014000</td>\n",
       "      <td>361.928000</td>\n",
       "      <td>379.043500</td>\n",
       "      <td>377.982000</td>\n",
       "      <td>...</td>\n",
       "      <td>0.0</td>\n",
       "      <td>0.0</td>\n",
       "      <td>0.0</td>\n",
       "      <td>0.0</td>\n",
       "      <td>0.0</td>\n",
       "      <td>0.0</td>\n",
       "      <td>0.0</td>\n",
       "      <td>5132.0</td>\n",
       "      <td>1.0</td>\n",
       "      <td>7</td>\n",
       "    </tr>\n",
       "    <tr>\n",
       "      <th>1</th>\n",
       "      <td>2012-01-01 01:15:00</td>\n",
       "      <td>84.0</td>\n",
       "      <td>393.879667</td>\n",
       "      <td>391.867667</td>\n",
       "      <td>393.889333</td>\n",
       "      <td>392.883000</td>\n",
       "      <td>573.900000</td>\n",
       "      <td>538.256667</td>\n",
       "      <td>555.398000</td>\n",
       "      <td>555.822667</td>\n",
       "      <td>...</td>\n",
       "      <td>0.0</td>\n",
       "      <td>0.0</td>\n",
       "      <td>0.0</td>\n",
       "      <td>0.0</td>\n",
       "      <td>0.0</td>\n",
       "      <td>0.0</td>\n",
       "      <td>0.0</td>\n",
       "      <td>5132.0</td>\n",
       "      <td>1.0</td>\n",
       "      <td>7</td>\n",
       "    </tr>\n",
       "    <tr>\n",
       "      <th>2</th>\n",
       "      <td>2012-01-01 01:30:00</td>\n",
       "      <td>84.0</td>\n",
       "      <td>396.111333</td>\n",
       "      <td>394.133000</td>\n",
       "      <td>396.106000</td>\n",
       "      <td>395.118333</td>\n",
       "      <td>1007.589333</td>\n",
       "      <td>965.244333</td>\n",
       "      <td>982.080333</td>\n",
       "      <td>984.974333</td>\n",
       "      <td>...</td>\n",
       "      <td>0.0</td>\n",
       "      <td>0.0</td>\n",
       "      <td>0.0</td>\n",
       "      <td>0.0</td>\n",
       "      <td>0.0</td>\n",
       "      <td>0.0</td>\n",
       "      <td>0.0</td>\n",
       "      <td>5132.0</td>\n",
       "      <td>1.0</td>\n",
       "      <td>7</td>\n",
       "    </tr>\n",
       "    <tr>\n",
       "      <th>3</th>\n",
       "      <td>2012-01-01 01:45:00</td>\n",
       "      <td>84.0</td>\n",
       "      <td>397.367667</td>\n",
       "      <td>395.719333</td>\n",
       "      <td>397.298333</td>\n",
       "      <td>396.387333</td>\n",
       "      <td>1262.640000</td>\n",
       "      <td>1218.763333</td>\n",
       "      <td>1234.256667</td>\n",
       "      <td>1238.533333</td>\n",
       "      <td>...</td>\n",
       "      <td>0.0</td>\n",
       "      <td>0.0</td>\n",
       "      <td>0.0</td>\n",
       "      <td>0.0</td>\n",
       "      <td>0.0</td>\n",
       "      <td>0.0</td>\n",
       "      <td>0.0</td>\n",
       "      <td>5132.0</td>\n",
       "      <td>1.0</td>\n",
       "      <td>7</td>\n",
       "    </tr>\n",
       "    <tr>\n",
       "      <th>4</th>\n",
       "      <td>2012-01-01 02:00:00</td>\n",
       "      <td>84.0</td>\n",
       "      <td>397.111333</td>\n",
       "      <td>395.548667</td>\n",
       "      <td>397.380333</td>\n",
       "      <td>396.379333</td>\n",
       "      <td>1221.010000</td>\n",
       "      <td>1177.076667</td>\n",
       "      <td>1192.993333</td>\n",
       "      <td>1197.030000</td>\n",
       "      <td>...</td>\n",
       "      <td>0.0</td>\n",
       "      <td>0.0</td>\n",
       "      <td>0.0</td>\n",
       "      <td>0.0</td>\n",
       "      <td>0.0</td>\n",
       "      <td>0.0</td>\n",
       "      <td>0.0</td>\n",
       "      <td>5132.0</td>\n",
       "      <td>1.0</td>\n",
       "      <td>7</td>\n",
       "    </tr>\n",
       "  </tbody>\n",
       "</table>\n",
       "<p>5 rows × 317 columns</p>\n",
       "</div>"
      ],
      "text/plain": [
       "            date_time  turbine_id  wgdc_avg_TriGri_PhV_phsA  \\\n",
       "0 2012-01-01 01:00:00        84.0                392.476500   \n",
       "1 2012-01-01 01:15:00        84.0                393.879667   \n",
       "2 2012-01-01 01:30:00        84.0                396.111333   \n",
       "3 2012-01-01 01:45:00        84.0                397.367667   \n",
       "4 2012-01-01 02:00:00        84.0                397.111333   \n",
       "\n",
       "   wgdc_avg_TriGri_PhV_phsB  wgdc_avg_TriGri_PhV_phsC  wgdc_avg_TriGri_PhV  \\\n",
       "0                390.478500                392.816000           391.489000   \n",
       "1                391.867667                393.889333           392.883000   \n",
       "2                394.133000                396.106000           395.118333   \n",
       "3                395.719333                397.298333           396.387333   \n",
       "4                395.548667                397.380333           396.379333   \n",
       "\n",
       "   wgdc_avg_TriGri_A_phsA  wgdc_avg_TriGri_A_phsB  wgdc_avg_TriGri_A_phsC  \\\n",
       "0              393.014000              361.928000              379.043500   \n",
       "1              573.900000              538.256667              555.398000   \n",
       "2             1007.589333              965.244333              982.080333   \n",
       "3             1262.640000             1218.763333             1234.256667   \n",
       "4             1221.010000             1177.076667             1192.993333   \n",
       "\n",
       "   wgdc_avg_TriGri_A  ...  wmet_max_MetAlt1_Press  wmet_min_MetAlt1_Hum  \\\n",
       "0         377.982000  ...                     0.0                   0.0   \n",
       "1         555.822667  ...                     0.0                   0.0   \n",
       "2         984.974333  ...                     0.0                   0.0   \n",
       "3        1238.533333  ...                     0.0                   0.0   \n",
       "4        1197.030000  ...                     0.0                   0.0   \n",
       "\n",
       "   wmet_min_DewPTmp  wmet_min_MetAlt1_Press  wmet_sdv_MetAlt1_Hum  \\\n",
       "0               0.0                     0.0                   0.0   \n",
       "1               0.0                     0.0                   0.0   \n",
       "2               0.0                     0.0                   0.0   \n",
       "3               0.0                     0.0                   0.0   \n",
       "4               0.0                     0.0                   0.0   \n",
       "\n",
       "   wmet_sdv_DewPTmp  wmet_sdv_MetAlt1_Press  alarm_id  availability  \\\n",
       "0               0.0                     0.0    5132.0           1.0   \n",
       "1               0.0                     0.0    5132.0           1.0   \n",
       "2               0.0                     0.0    5132.0           1.0   \n",
       "3               0.0                     0.0    5132.0           1.0   \n",
       "4               0.0                     0.0    5132.0           1.0   \n",
       "\n",
       "   alarm_system  \n",
       "0             7  \n",
       "1             7  \n",
       "2             7  \n",
       "3             7  \n",
       "4             7  \n",
       "\n",
       "[5 rows x 317 columns]"
      ]
     },
     "execution_count": 77,
     "metadata": {},
     "output_type": "execute_result"
    }
   ],
   "source": [
    "df_30min.head()"
   ]
  },
  {
   "cell_type": "code",
   "execution_count": 78,
   "id": "e6401ff2",
   "metadata": {},
   "outputs": [
    {
     "data": {
      "text/plain": [
       "(102934, 317)"
      ]
     },
     "execution_count": 78,
     "metadata": {},
     "output_type": "execute_result"
    }
   ],
   "source": [
    "df_30min.shape\n"
   ]
  },
  {
   "cell_type": "code",
   "execution_count": 79,
   "id": "e28d4d26",
   "metadata": {},
   "outputs": [
    {
     "name": "stdout",
     "output_type": "stream",
     "text": [
      "\n",
      "📊 Missing values after cleaning and aggregation:\n",
      "alarm_system                0\n",
      "date_time                   0\n",
      "turbine_id                  0\n",
      "wgdc_avg_TriGri_PhV_phsA    0\n",
      "wgdc_avg_TriGri_PhV_phsB    0\n",
      "wgdc_avg_TriGri_PhV_phsC    0\n",
      "wgdc_avg_TriGri_PhV         0\n",
      "wgdc_avg_TriGri_A_phsA      0\n",
      "wgdc_avg_TriGri_A_phsB      0\n",
      "wgdc_avg_TriGri_A_phsC      0\n",
      "dtype: int64\n"
     ]
    }
   ],
   "source": [
    "print(\"\\n📊 Missing values after cleaning and aggregation:\")\n",
    "print(df_30min.isnull().sum().sort_values(ascending=False).head(10))\n"
   ]
  },
  {
   "cell_type": "code",
   "execution_count": null,
   "id": "e28939a5",
   "metadata": {},
   "outputs": [
    {
     "data": {
      "image/png": "[encoded data removed]",
      "text/plain": [
       "<Figure size 1500x600 with 1 Axes>"
      ]
     },
     "metadata": {},
     "output_type": "display_data"
    }
   ],
   "source": [
    "\n",
    "\n",
    "# Select a random 24-hour window for plotting\n",
    "# Avoid edges to ensure valid data\n",
    "valid_indices = df_30min['date_time'].iloc[48:-48].reset_index(drop=True)  # Skip first/last 24 hours\n",
    "random_index = np.random.choice(valid_indices.index)\n",
    "start_time = valid_indices[random_index]\n",
    "end_time = start_time + pd.Timedelta(hours=24)\n",
    "\n",
    "# Extract windows for both datasets\n",
    "df_raw_window = df[(df['date_time'] >= start_time) & (df['date_time'] <= end_time)]\n",
    "df_30min_window = df_30min[(df_30min['date_time'] >= start_time) & (df_30min['date_time'] <= end_time)]\n",
    "\n",
    "# Create the plot\n",
    "plt.figure(figsize=(15, 6))\n",
    "plt.plot(df_raw_window['date_time'], df_raw_window['wtrm_avg_TrmTmp_Gbx'], \n",
    "         label='Original (5-min)', color='blue', alpha=0.6, linewidth=1.5)\n",
    "plt.plot(df_30min_window['date_time'], df_30min_window['wtrm_avg_TrmTmp_Gbx'], \n",
    "         label='Aggregated (30-min)', color='red', marker='o', linestyle='--', linewidth=1.5)\n",
    "\n",
    "# Customize the plot\n",
    "plt.title(f'Gearbox Temperature: Original (5-min) vs. Aggregated (15-min)\\nFrom {start_time} to {end_time}', fontsize=12)\n",
    "plt.xlabel('Date-Time', fontsize=10)\n",
    "plt.ylabel('Temperature (°C)', fontsize=10)\n",
    "plt.legend(fontsize=10)\n",
    "plt.grid(True, linestyle='--', alpha=0.5)\n",
    "plt.xticks(rotation=45)\n",
    "plt.tight_layout()\n",
    "\n",
    "# Display the plot\n",
    "plt.show()"
   ]
  },
  {
   "cell_type": "code",
   "execution_count": 86,
   "id": "8d2be3aa",
   "metadata": {},
   "outputs": [
    {
     "data": {
      "image/png": "[encoded data removed]",
      "text/plain": [
       "<Figure size 1200x600 with 1 Axes>"
      ]
     },
     "metadata": {},
     "output_type": "display_data"
    }
   ],
   "source": [
    "\n",
    "# Extract year from date_time\n",
    "df_30min['year'] = df_30min['date_time'].dt.year\n",
    "\n",
    "# Create the violin plot\n",
    "plt.figure(figsize=(12, 6))\n",
    "sns.violinplot(x='year', y='wtrm_avg_TrmTmp_Gbx', data=df_30min, inner='box', palette='muted', linewidth=1.5)\n",
    "\n",
    "# Customize the plot\n",
    "plt.title('Distribution of Gearbox Temperature Across Years', fontsize=12)\n",
    "plt.xlabel('Year', fontsize=10)\n",
    "plt.ylabel('Temperature (°C)', fontsize=10)\n",
    "plt.grid(True, linestyle='--', alpha=0.5)\n",
    "plt.tight_layout()\n",
    "\n",
    "# Display the plot\n",
    "plt.show()\n",
    "\n",
    "# Clean up temporary column\n",
    "df_30min = df_30min.drop(columns=['year'])"
   ]
  },
  {
   "cell_type": "code",
   "execution_count": 88,
   "id": "3be7ef06",
   "metadata": {},
   "outputs": [],
   "source": [
    "# === Step: Split data ===\n",
    "train_ratio, val_ratio = 0.7, 0.15\n",
    "train_size = int(len(df_30min) * train_ratio)\n",
    "val_size = int(len(df_30min) * val_ratio)\n",
    "\n",
    "df_train = df_30min.iloc[:train_size].copy()\n",
    "df_val = df_30min.iloc[train_size:train_size+val_size].copy()\n",
    "df_test = df_30min.iloc[train_size+val_size:].copy()\n",
    "\n",
    "\n"
   ]
  },
  {
   "cell_type": "code",
   "execution_count": 90,
   "id": "62df3619",
   "metadata": {},
   "outputs": [
    {
     "name": "stdout",
     "output_type": "stream",
     "text": [
      "⚙️ Applying feature engineering to train, validation, and test sets...\n",
      "✅ No duplicate columns in df_train.\n"
     ]
    }
   ],
   "source": [
    "# === Step: Feature engineering per split ===\n",
    "print(\"⚙️ Applying feature engineering to train, validation, and test sets...\")\n",
    "df_train = alarm_feature_engineering(df_train)\n",
    "df_train = enhanced_feature_engineering(df_train)\n",
    "df_val = alarm_feature_engineering(df_val)\n",
    "df_val = enhanced_feature_engineering(df_val)\n",
    "df_test = alarm_feature_engineering(df_test)\n",
    "df_test = enhanced_feature_engineering(df_test)\n",
    "\n",
    "# Check for duplicate columns\n",
    "duplicate_columns = df_train.columns[df_train.columns.duplicated()].tolist()\n",
    "if duplicate_columns:\n",
    "    print(f\"⚠️ Duplicate columns in df_train: {duplicate_columns}\")\n",
    "else:\n",
    "    print(\"✅ No duplicate columns in df_train.\")"
   ]
  },
  {
   "cell_type": "code",
   "execution_count": 91,
   "id": "6f6945a9",
   "metadata": {},
   "outputs": [
    {
     "name": "stdout",
     "output_type": "stream",
     "text": [
      "\n",
      "🔍 Checking columns and missing values in Training...\n",
      "✅ Available features (21): ['wtrm_avg_TrmTmp_GbxBrg452', 'wtrm_avg_TrmTmp_GbxBrg151', 'wtrm_avg_Gbx_OilPres', 'wgen_avg_Spd', 'wgdc_avg_TriGri_PwrAt', 'wtrm_avg_TrmTmp_Gbx_lag_0.5h', 'wtrm_avg_TrmTmp_Gbx_lag_1.0h', 'wtrm_avg_TrmTmp_Gbx_lag_2.0h', 'wtrm_avg_TrmTmp_Gbx_lag_4.0h', 'wtrm_avg_TrmTmp_GbxBrg452_lag_0.5h', 'wtrm_avg_TrmTmp_GbxBrg151_lag_0.5h', 'wtrm_avg_TrmTmp_Gbx_delta_1h', 'wgen_avg_Spd_delta_1h', 'wgdc_avg_TriGri_PwrAt_delta_1h', 'alarm_system', 'recent_alarm_flag', 'alarm_frequency_24h', 'hour_sin', 'hour_cos', 'day_of_week', 'wtrm_avg_TrmTmp_Gbx_rolling_mean_3.0h']\n",
      "✅ No missing values found in Training.\n",
      "\n",
      "🔍 Checking columns and missing values in Validation...\n",
      "✅ Available features (21): ['wtrm_avg_TrmTmp_GbxBrg452', 'wtrm_avg_TrmTmp_GbxBrg151', 'wtrm_avg_Gbx_OilPres', 'wgen_avg_Spd', 'wgdc_avg_TriGri_PwrAt', 'wtrm_avg_TrmTmp_Gbx_lag_0.5h', 'wtrm_avg_TrmTmp_Gbx_lag_1.0h', 'wtrm_avg_TrmTmp_Gbx_lag_2.0h', 'wtrm_avg_TrmTmp_Gbx_lag_4.0h', 'wtrm_avg_TrmTmp_GbxBrg452_lag_0.5h', 'wtrm_avg_TrmTmp_GbxBrg151_lag_0.5h', 'wtrm_avg_TrmTmp_Gbx_delta_1h', 'wgen_avg_Spd_delta_1h', 'wgdc_avg_TriGri_PwrAt_delta_1h', 'alarm_system', 'recent_alarm_flag', 'alarm_frequency_24h', 'hour_sin', 'hour_cos', 'day_of_week', 'wtrm_avg_TrmTmp_Gbx_rolling_mean_3.0h']\n",
      "✅ No missing values found in Validation.\n",
      "\n",
      "🔍 Checking columns and missing values in Test...\n",
      "✅ Available features (21): ['wtrm_avg_TrmTmp_GbxBrg452', 'wtrm_avg_TrmTmp_GbxBrg151', 'wtrm_avg_Gbx_OilPres', 'wgen_avg_Spd', 'wgdc_avg_TriGri_PwrAt', 'wtrm_avg_TrmTmp_Gbx_lag_0.5h', 'wtrm_avg_TrmTmp_Gbx_lag_1.0h', 'wtrm_avg_TrmTmp_Gbx_lag_2.0h', 'wtrm_avg_TrmTmp_Gbx_lag_4.0h', 'wtrm_avg_TrmTmp_GbxBrg452_lag_0.5h', 'wtrm_avg_TrmTmp_GbxBrg151_lag_0.5h', 'wtrm_avg_TrmTmp_Gbx_delta_1h', 'wgen_avg_Spd_delta_1h', 'wgdc_avg_TriGri_PwrAt_delta_1h', 'alarm_system', 'recent_alarm_flag', 'alarm_frequency_24h', 'hour_sin', 'hour_cos', 'day_of_week', 'wtrm_avg_TrmTmp_Gbx_rolling_mean_3.0h']\n",
      "✅ No missing values found in Test.\n",
      "\n",
      "✅ Common features across all splits (21): ['alarm_frequency_24h', 'alarm_system', 'day_of_week', 'hour_cos', 'hour_sin', 'recent_alarm_flag', 'wgdc_avg_TriGri_PwrAt', 'wgdc_avg_TriGri_PwrAt_delta_1h', 'wgen_avg_Spd', 'wgen_avg_Spd_delta_1h', 'wtrm_avg_Gbx_OilPres', 'wtrm_avg_TrmTmp_GbxBrg151', 'wtrm_avg_TrmTmp_GbxBrg151_lag_0.5h', 'wtrm_avg_TrmTmp_GbxBrg452', 'wtrm_avg_TrmTmp_GbxBrg452_lag_0.5h', 'wtrm_avg_TrmTmp_Gbx_delta_1h', 'wtrm_avg_TrmTmp_Gbx_lag_0.5h', 'wtrm_avg_TrmTmp_Gbx_lag_1.0h', 'wtrm_avg_TrmTmp_Gbx_lag_2.0h', 'wtrm_avg_TrmTmp_Gbx_lag_4.0h', 'wtrm_avg_TrmTmp_Gbx_rolling_mean_3.0h']\n",
      "\n",
      "✅ Final dataset shapes:\n",
      "   Train: (72053, 23)\n",
      "   Validation: (15440, 23)\n",
      "   Test: (15441, 23)\n"
     ]
    }
   ],
   "source": [
    "# === Step: Define features and check ===\n",
    "common_features = [\n",
    "    'wtrm_avg_TrmTmp_GbxBrg452', 'wtrm_avg_TrmTmp_GbxBrg151', 'wtrm_avg_TrmTmp_Gbx',\n",
    "    'wtrm_avg_Gbx_OilPres', 'wgen_avg_Spd', 'wgdc_avg_TriGri_PwrAt',\n",
    "    'wtrm_avg_TrmTmp_Gbx_lag_0.5h', 'wtrm_avg_TrmTmp_Gbx_lag_1.0h', 'wtrm_avg_TrmTmp_Gbx_lag_2.0h',\n",
    "    'wtrm_avg_TrmTmp_Gbx_lag_4.0h', 'wtrm_avg_TrmTmp_GbxBrg452_lag_0.5h', 'wtrm_avg_TrmTmp_GbxBrg151_lag_0.5h',\n",
    "    'wtrm_avg_TrmTmp_Gbx_delta_1h', 'wgen_avg_Spd_delta_1h', 'wgdc_avg_TriGri_PwrAt_delta_1h',\n",
    "    'alarm_system', 'recent_alarm_flag', 'alarm_frequency_24h',\n",
    "    'hour_sin', 'hour_cos', 'day_of_week', 'wtrm_avg_TrmTmp_Gbx_rolling_mean_3.0h'\n",
    "]\n",
    "\n",
    "# Remove duplicates from common_features\n",
    "# Remove target column from features\n",
    "common_features = list(dict.fromkeys(common_features))\n",
    "if 'wtrm_avg_TrmTmp_Gbx' in common_features:\n",
    "    common_features.remove('wtrm_avg_TrmTmp_Gbx')\n",
    "\n",
    "train_features = check_columns_and_missing_values(df_train, common_features, \"Training\")\n",
    "val_features = check_columns_and_missing_values(df_val, common_features, \"Validation\")\n",
    "test_features = check_columns_and_missing_values(df_test, common_features, \"Test\")\n",
    "\n",
    "common_features = sorted(set(train_features) & set(val_features) & set(test_features))\n",
    "print(f\"\\n✅ Common features across all splits ({len(common_features)}): {common_features}\")\n",
    "\n",
    "# Final clean splits\n",
    "df_train_clean = df_train[common_features + ['wtrm_avg_TrmTmp_Gbx', 'date_time']].copy()\n",
    "df_val_clean = df_val[common_features + ['wtrm_avg_TrmTmp_Gbx', 'date_time']].copy()\n",
    "df_test_clean = df_test[common_features + ['wtrm_avg_TrmTmp_Gbx', 'date_time']].copy()\n",
    "\n",
    "# Remove duplicate columns if any\n",
    "for col in ['wtrm_avg_TrmTmp_Gbx', 'date_time']:\n",
    "    if col in common_features:\n",
    "        common_features.remove(col)\n",
    "\n",
    "print(f\"\\n✅ Final dataset shapes:\")\n",
    "print(f\"   Train: {df_train_clean.shape}\")\n",
    "print(f\"   Validation: {df_val_clean.shape}\")\n",
    "print(f\"   Test: {df_test_clean.shape}\")"
   ]
  },
  {
   "cell_type": "code",
   "execution_count": 92,
   "id": "cdbf251a",
   "metadata": {},
   "outputs": [
    {
     "name": "stdout",
     "output_type": "stream",
     "text": [
      "💾 Exporting processed test data...\n",
      "✅ Exported test data: (15441, 23) -> test_data_processed.csv\n",
      "✅ Saved common_features.json\n"
     ]
    }
   ],
   "source": [
    "import json\n",
    "\n",
    "# === 💾 Export processed test data (much smaller) ===\n",
    "print(\"💾 Exporting processed test data...\")\n",
    "\n",
    "# Export test data with features and target\n",
    "df_test_export = df_test_clean[common_features + ['wtrm_avg_TrmTmp_Gbx', 'date_time']].copy()\n",
    "df_test_export.to_csv(\"test_data_processed.csv\", index=False)\n",
    "print(f\"✅ Exported test data: {df_test_export.shape} -> test_data_processed.csv\")\n",
    "\n",
    "# Save common features for Streamlit\n",
    "with open('common_features.json', 'w') as f:\n",
    "    json.dump(common_features, f)\n",
    "print(\"✅ Saved common_features.json\")"
   ]
  },
  {
   "cell_type": "code",
   "execution_count": 93,
   "id": "43635a2a",
   "metadata": {},
   "outputs": [
    {
     "data": {
      "text/html": [
       "<div>\n",
       "<style scoped>\n",
       "    .dataframe tbody tr th:only-of-type {\n",
       "        vertical-align: middle;\n",
       "    }\n",
       "\n",
       "    .dataframe tbody tr th {\n",
       "        vertical-align: top;\n",
       "    }\n",
       "\n",
       "    .dataframe thead th {\n",
       "        text-align: right;\n",
       "    }\n",
       "</style>\n",
       "<table border=\"1\" class=\"dataframe\">\n",
       "  <thead>\n",
       "    <tr style=\"text-align: right;\">\n",
       "      <th></th>\n",
       "      <th>alarm_frequency_24h</th>\n",
       "      <th>alarm_system</th>\n",
       "      <th>day_of_week</th>\n",
       "      <th>hour_cos</th>\n",
       "      <th>hour_sin</th>\n",
       "      <th>recent_alarm_flag</th>\n",
       "      <th>wgdc_avg_TriGri_PwrAt</th>\n",
       "      <th>wgdc_avg_TriGri_PwrAt_delta_1h</th>\n",
       "      <th>wgen_avg_Spd</th>\n",
       "      <th>wgen_avg_Spd_delta_1h</th>\n",
       "      <th>...</th>\n",
       "      <th>wtrm_avg_TrmTmp_GbxBrg452</th>\n",
       "      <th>wtrm_avg_TrmTmp_GbxBrg452_lag_0.5h</th>\n",
       "      <th>wtrm_avg_TrmTmp_Gbx_delta_1h</th>\n",
       "      <th>wtrm_avg_TrmTmp_Gbx_lag_0.5h</th>\n",
       "      <th>wtrm_avg_TrmTmp_Gbx_lag_1.0h</th>\n",
       "      <th>wtrm_avg_TrmTmp_Gbx_lag_2.0h</th>\n",
       "      <th>wtrm_avg_TrmTmp_Gbx_lag_4.0h</th>\n",
       "      <th>wtrm_avg_TrmTmp_Gbx_rolling_mean_3.0h</th>\n",
       "      <th>wtrm_avg_TrmTmp_Gbx</th>\n",
       "      <th>date_time</th>\n",
       "    </tr>\n",
       "  </thead>\n",
       "  <tbody>\n",
       "    <tr>\n",
       "      <th>0</th>\n",
       "      <td>0.0</td>\n",
       "      <td>7</td>\n",
       "      <td>0</td>\n",
       "      <td>-0.896873</td>\n",
       "      <td>0.442289</td>\n",
       "      <td>0</td>\n",
       "      <td>-9.601720</td>\n",
       "      <td>1.509077</td>\n",
       "      <td>0.000556</td>\n",
       "      <td>-0.000176</td>\n",
       "      <td>...</td>\n",
       "      <td>29.9</td>\n",
       "      <td>29.9</td>\n",
       "      <td>0.000000</td>\n",
       "      <td>27.4</td>\n",
       "      <td>27.4</td>\n",
       "      <td>27.4</td>\n",
       "      <td>27.4</td>\n",
       "      <td>27.622222</td>\n",
       "      <td>27.400000</td>\n",
       "      <td>2014-06-30 10:15:00</td>\n",
       "    </tr>\n",
       "    <tr>\n",
       "      <th>1</th>\n",
       "      <td>0.0</td>\n",
       "      <td>7</td>\n",
       "      <td>0</td>\n",
       "      <td>-0.923880</td>\n",
       "      <td>0.382683</td>\n",
       "      <td>0</td>\n",
       "      <td>-8.586490</td>\n",
       "      <td>1.509077</td>\n",
       "      <td>0.000491</td>\n",
       "      <td>-0.000176</td>\n",
       "      <td>...</td>\n",
       "      <td>29.9</td>\n",
       "      <td>29.9</td>\n",
       "      <td>0.000000</td>\n",
       "      <td>27.4</td>\n",
       "      <td>27.4</td>\n",
       "      <td>27.4</td>\n",
       "      <td>27.4</td>\n",
       "      <td>27.622222</td>\n",
       "      <td>27.400000</td>\n",
       "      <td>2014-06-30 10:30:00</td>\n",
       "    </tr>\n",
       "    <tr>\n",
       "      <th>2</th>\n",
       "      <td>0.0</td>\n",
       "      <td>7</td>\n",
       "      <td>0</td>\n",
       "      <td>-0.946930</td>\n",
       "      <td>0.321439</td>\n",
       "      <td>0</td>\n",
       "      <td>-8.092643</td>\n",
       "      <td>1.509077</td>\n",
       "      <td>0.000380</td>\n",
       "      <td>-0.000176</td>\n",
       "      <td>...</td>\n",
       "      <td>29.9</td>\n",
       "      <td>29.9</td>\n",
       "      <td>0.000000</td>\n",
       "      <td>27.4</td>\n",
       "      <td>27.4</td>\n",
       "      <td>27.4</td>\n",
       "      <td>27.4</td>\n",
       "      <td>27.622222</td>\n",
       "      <td>27.400000</td>\n",
       "      <td>2014-06-30 10:45:00</td>\n",
       "    </tr>\n",
       "    <tr>\n",
       "      <th>3</th>\n",
       "      <td>0.0</td>\n",
       "      <td>7</td>\n",
       "      <td>0</td>\n",
       "      <td>-0.965926</td>\n",
       "      <td>0.258819</td>\n",
       "      <td>0</td>\n",
       "      <td>-6.083637</td>\n",
       "      <td>2.502853</td>\n",
       "      <td>0.000000</td>\n",
       "      <td>-0.000491</td>\n",
       "      <td>...</td>\n",
       "      <td>29.9</td>\n",
       "      <td>29.9</td>\n",
       "      <td>0.000000</td>\n",
       "      <td>27.4</td>\n",
       "      <td>27.4</td>\n",
       "      <td>27.4</td>\n",
       "      <td>27.4</td>\n",
       "      <td>27.622222</td>\n",
       "      <td>27.400000</td>\n",
       "      <td>2014-06-30 11:00:00</td>\n",
       "    </tr>\n",
       "    <tr>\n",
       "      <th>4</th>\n",
       "      <td>0.0</td>\n",
       "      <td>7</td>\n",
       "      <td>0</td>\n",
       "      <td>-0.980785</td>\n",
       "      <td>0.195090</td>\n",
       "      <td>0</td>\n",
       "      <td>-6.137283</td>\n",
       "      <td>1.955360</td>\n",
       "      <td>0.000062</td>\n",
       "      <td>-0.000318</td>\n",
       "      <td>...</td>\n",
       "      <td>29.9</td>\n",
       "      <td>29.9</td>\n",
       "      <td>0.333333</td>\n",
       "      <td>27.4</td>\n",
       "      <td>27.4</td>\n",
       "      <td>27.4</td>\n",
       "      <td>27.4</td>\n",
       "      <td>27.622222</td>\n",
       "      <td>27.733333</td>\n",
       "      <td>2014-06-30 11:15:00</td>\n",
       "    </tr>\n",
       "  </tbody>\n",
       "</table>\n",
       "<p>5 rows × 23 columns</p>\n",
       "</div>"
      ],
      "text/plain": [
       "   alarm_frequency_24h  alarm_system  day_of_week  hour_cos  hour_sin  \\\n",
       "0                  0.0             7            0 -0.896873  0.442289   \n",
       "1                  0.0             7            0 -0.923880  0.382683   \n",
       "2                  0.0             7            0 -0.946930  0.321439   \n",
       "3                  0.0             7            0 -0.965926  0.258819   \n",
       "4                  0.0             7            0 -0.980785  0.195090   \n",
       "\n",
       "   recent_alarm_flag  wgdc_avg_TriGri_PwrAt  wgdc_avg_TriGri_PwrAt_delta_1h  \\\n",
       "0                  0              -9.601720                        1.509077   \n",
       "1                  0              -8.586490                        1.509077   \n",
       "2                  0              -8.092643                        1.509077   \n",
       "3                  0              -6.083637                        2.502853   \n",
       "4                  0              -6.137283                        1.955360   \n",
       "\n",
       "   wgen_avg_Spd  wgen_avg_Spd_delta_1h  ...  wtrm_avg_TrmTmp_GbxBrg452  \\\n",
       "0      0.000556              -0.000176  ...                       29.9   \n",
       "1      0.000491              -0.000176  ...                       29.9   \n",
       "2      0.000380              -0.000176  ...                       29.9   \n",
       "3      0.000000              -0.000491  ...                       29.9   \n",
       "4      0.000062              -0.000318  ...                       29.9   \n",
       "\n",
       "   wtrm_avg_TrmTmp_GbxBrg452_lag_0.5h  wtrm_avg_TrmTmp_Gbx_delta_1h  \\\n",
       "0                                29.9                      0.000000   \n",
       "1                                29.9                      0.000000   \n",
       "2                                29.9                      0.000000   \n",
       "3                                29.9                      0.000000   \n",
       "4                                29.9                      0.333333   \n",
       "\n",
       "   wtrm_avg_TrmTmp_Gbx_lag_0.5h  wtrm_avg_TrmTmp_Gbx_lag_1.0h  \\\n",
       "0                          27.4                          27.4   \n",
       "1                          27.4                          27.4   \n",
       "2                          27.4                          27.4   \n",
       "3                          27.4                          27.4   \n",
       "4                          27.4                          27.4   \n",
       "\n",
       "   wtrm_avg_TrmTmp_Gbx_lag_2.0h  wtrm_avg_TrmTmp_Gbx_lag_4.0h  \\\n",
       "0                          27.4                          27.4   \n",
       "1                          27.4                          27.4   \n",
       "2                          27.4                          27.4   \n",
       "3                          27.4                          27.4   \n",
       "4                          27.4                          27.4   \n",
       "\n",
       "   wtrm_avg_TrmTmp_Gbx_rolling_mean_3.0h  wtrm_avg_TrmTmp_Gbx  \\\n",
       "0                              27.622222            27.400000   \n",
       "1                              27.622222            27.400000   \n",
       "2                              27.622222            27.400000   \n",
       "3                              27.622222            27.400000   \n",
       "4                              27.622222            27.733333   \n",
       "\n",
       "            date_time  \n",
       "0 2014-06-30 10:15:00  \n",
       "1 2014-06-30 10:30:00  \n",
       "2 2014-06-30 10:45:00  \n",
       "3 2014-06-30 11:00:00  \n",
       "4 2014-06-30 11:15:00  \n",
       "\n",
       "[5 rows x 23 columns]"
      ]
     },
     "execution_count": 93,
     "metadata": {},
     "output_type": "execute_result"
    }
   ],
   "source": [
    "df_test_export.head()"
   ]
  },
  {
   "cell_type": "code",
   "execution_count": 94,
   "id": "ef78ed03",
   "metadata": {},
   "outputs": [
    {
     "name": "stdout",
     "output_type": "stream",
     "text": [
      "📊 Generating sequences for training, validation, and testing...\n",
      "✅ X_train: (71477, 384, 21), y_train: (71477, 192)\n",
      "✅ X_val: (14864, 384, 21), y_val: (14864, 192)\n",
      "✅ X_test: (14865, 384, 21), y_test: (14865, 192)\n"
     ]
    }
   ],
   "source": [
    "# === Continue with training using generated sequences for train/val ===\n",
    "def generate_sequences(df, feature_cols, target_col='wtrm_avg_TrmTmp_Gbx', lookback_steps=384, forecast_steps=192):\n",
    "    X, y, indices = [], [], []\n",
    "    feature_data = df[feature_cols].values\n",
    "    target_data = df[target_col].values\n",
    "    dates = df['date_time'].values\n",
    "    \n",
    "    for i in range(lookback_steps, len(df) - forecast_steps):\n",
    "        X.append(feature_data[i - lookback_steps:i])\n",
    "        y.append(target_data[i:i + forecast_steps])  \n",
    "        indices.append(dates[i])\n",
    "    \n",
    "    return np.array(X), np.array(y), np.array(indices)\n",
    "\n",
    "# Continue with model training...\n",
    "print(\"📊 Generating sequences for training, validation, and testing...\")\n",
    "X_train, y_train, train_dates = generate_sequences(df_train_clean, common_features)\n",
    "X_val, y_val, val_dates = generate_sequences(df_val_clean, common_features)\n",
    "X_test, y_test, test_dates = generate_sequences(df_test_clean, common_features)\n",
    "\n",
    "print(f\"✅ X_train: {X_train.shape}, y_train: {y_train.shape}\")\n",
    "print(f\"✅ X_val: {X_val.shape}, y_val: {y_val.shape}\")\n",
    "print(f\"✅ X_test: {X_test.shape}, y_test: {y_test.shape}\")"
   ]
  },
  {
   "cell_type": "code",
   "execution_count": 97,
   "id": "efaa35de",
   "metadata": {},
   "outputs": [
    {
     "name": "stdout",
     "output_type": "stream",
     "text": [
      "✅ X_train: (71477, 384, 21), y_train: (71477, 192)\n",
      "✅ X_val: (14864, 384, 21), y_val: (14864, 192)\n",
      "✅ X_test: (14865, 384, 21), y_test: (14865, 192)\n",
      "🔄 Scaling with RobustScaler...\n",
      "🧠 Features used by feature_scaler:\n",
      "['alarm_frequency_24h', 'alarm_system', 'day_of_week', 'hour_cos', 'hour_sin', 'recent_alarm_flag', 'wgdc_avg_TriGri_PwrAt', 'wgdc_avg_TriGri_PwrAt_delta_1h', 'wgen_avg_Spd', 'wgen_avg_Spd_delta_1h', 'wtrm_avg_Gbx_OilPres', 'wtrm_avg_TrmTmp_GbxBrg151', 'wtrm_avg_TrmTmp_GbxBrg151_lag_0.5h', 'wtrm_avg_TrmTmp_GbxBrg452', 'wtrm_avg_TrmTmp_GbxBrg452_lag_0.5h', 'wtrm_avg_TrmTmp_Gbx_delta_1h', 'wtrm_avg_TrmTmp_Gbx_lag_0.5h', 'wtrm_avg_TrmTmp_Gbx_lag_1.0h', 'wtrm_avg_TrmTmp_Gbx_lag_2.0h', 'wtrm_avg_TrmTmp_Gbx_lag_4.0h', 'wtrm_avg_TrmTmp_Gbx_rolling_mean_3.0h']\n",
      "Number of features in X_train_reshaped: 21\n",
      "✅ Scaling completed\n"
     ]
    }
   ],
   "source": [
    "\n",
    "print(f\"✅ X_train: {X_train.shape}, y_train: {y_train.shape}\")\n",
    "print(f\"✅ X_val: {X_val.shape}, y_val: {y_val.shape}\")\n",
    "print(f\"✅ X_test: {X_test.shape}, y_test: {y_test.shape}\")\n",
    "\n",
    "# Verify feature count\n",
    "if X_train.shape[2] != len(common_features):\n",
    "    print(\"X_train.shape[2]:\", X_train.shape[2])\n",
    "    print(\"len(common_features):\", len(common_features))\n",
    "    print(\"common_features:\", common_features)\n",
    "\n",
    "    raise ValueError(f\"X_train has {X_train.shape[2]} features, but common_features has {len(common_features)}\")\n",
    "\n",
    "# Scale features\n",
    "print(\"🔄 Scaling with RobustScaler...\")\n",
    "feature_scaler = RobustScaler()\n",
    "X_train_reshaped = X_train.reshape(-1, X_train.shape[-1])\n",
    "feature_scaler.fit(X_train_reshaped)\n",
    "feature_scaler.feature_names_in_ = np.array(common_features)\n",
    "print(\"🧠 Features used by feature_scaler:\")\n",
    "print(feature_scaler.feature_names_in_.tolist())\n",
    "print(f\"Number of features in X_train_reshaped: {X_train_reshaped.shape[1]}\")\n",
    "\n",
    "X_train_scaled = feature_scaler.transform(X_train_reshaped).reshape(X_train.shape)\n",
    "X_val_scaled = feature_scaler.transform(X_val.reshape(-1, X_val.shape[-1])).reshape(X_val.shape)\n",
    "X_test_scaled = feature_scaler.transform(X_test.reshape(-1, X_test.shape[-1])).reshape(X_test.shape)\n",
    "print(\"✅ Scaling completed\")"
   ]
  },
  {
   "cell_type": "code",
   "execution_count": 99,
   "id": "f618478c",
   "metadata": {},
   "outputs": [
    {
     "name": "stdout",
     "output_type": "stream",
     "text": [
      "Number of features in X_train_reshaped: 21\n"
     ]
    }
   ],
   "source": [
    "print(f\"Number of features in X_train_reshaped: {X_train_reshaped.shape[1]}\")"
   ]
  },
  {
   "cell_type": "code",
   "execution_count": 100,
   "id": "3c2111f3",
   "metadata": {},
   "outputs": [],
   "source": [
    "from tensorflow.keras.models import Model\n",
    "from tensorflow.keras.layers import Input, Conv1D, MaxPooling1D, LSTM, Dense, Dropout, BatchNormalization, Bidirectional, LeakyReLU\n",
    "from tensorflow.keras.layers import Attention, GlobalAveragePooling1D, Add\n",
    "from tensorflow.keras.regularizers import l2\n",
    "\n",
    "# def create_model_with_attention(input_shape, output_shape):\n",
    "#     inputs = Input(shape=input_shape)\n",
    "\n",
    "#     # Conv1D block\n",
    "#     x = Conv1D(filters=64, kernel_size=3, padding='same', kernel_regularizer=l2(1e-4))(inputs)\n",
    "#     x = BatchNormalization()(x)\n",
    "#     x = LeakyReLU()(x)\n",
    "#     x = MaxPooling1D(pool_size=2)(x)\n",
    "#     x = Dropout(0.3)(x)\n",
    "\n",
    "#     # BiLSTM (return sequences for attention)\n",
    "#     x = Bidirectional(LSTM(64, return_sequences=True, dropout=0.3))(x)\n",
    "\n",
    "#     # Attention Layer\n",
    "#     attention_output = Attention()([x, x])  # Self-attention\n",
    "#     x = Add()([x, attention_output])        # Residual connection\n",
    "#     x = GlobalAveragePooling1D()(x)         # Reduce sequence to vector\n",
    "\n",
    "#     # Dense block\n",
    "#     x = Dense(64, kernel_regularizer=l2(1e-4))(x)\n",
    "#     x = LeakyReLU()(x)\n",
    "#     x = Dropout(0.3)(x)\n",
    "\n",
    "#     outputs = Dense(output_shape, activation='linear')(x)\n",
    "\n",
    "#     model = Model(inputs, outputs)\n",
    "#     return model\n",
    "\n",
    "\n",
    "\n",
    "\n",
    "# from tensorflow.keras.models import Sequential\n",
    "# from tensorflow.keras.layers import Conv1D, MaxPooling1D, LSTM, Dense, Dropout, BatchNormalization, Bidirectional, LeakyReLU\n",
    "# from tensorflow.keras.optimizers import Adam\n",
    "# from tensorflow.keras.losses import Huber\n",
    "# from tensorflow.keras.regularizers import l2\n",
    "\n",
    "def create_improved_model(input_shape, output_shape):\n",
    "    model = Sequential()\n",
    "\n",
    "    # 1. Conv1D block\n",
    "    model.add(Conv1D(filters=64, kernel_size=3, padding='same',\n",
    "                     kernel_regularizer=l2(1e-4), input_shape=input_shape))\n",
    "    model.add(BatchNormalization())\n",
    "    model.add(LeakyReLU())\n",
    "    model.add(MaxPooling1D(pool_size=2))\n",
    "    model.add(Dropout(0.3))\n",
    "\n",
    "    # 2. LSTM block (use Bidirectional for better context)\n",
    "    model.add(Bidirectional(LSTM(64, return_sequences=True, dropout=0.3)))\n",
    "    model.add(Bidirectional(LSTM(32, return_sequences=False, dropout=0.2)))\n",
    "\n",
    "\n",
    "    # 3. Dense layers\n",
    "    model.add(Dense(64, kernel_regularizer=l2(1e-4)))\n",
    "    model.add(LeakyReLU())\n",
    "    model.add(Dropout(0.3))\n",
    "\n",
    "    model.add(Dense(output_shape, activation='linear'))\n",
    "\n",
    "    return model\n",
    "\n",
    "\n",
    "# from tensorflow.keras.models import Sequential\n",
    "# from tensorflow.keras.layers import Conv1D, LSTM, Dense, Dropout, BatchNormalization, Bidirectional, LeakyReLU\n",
    "# from tensorflow.keras.optimizers import Adam\n",
    "# from tensorflow.keras.losses import Huber\n",
    "# from tensorflow.keras.regularizers import l2\n",
    "\n",
    "# def create_improved_model(input_shape, output_shape):\n",
    "#     model = Sequential()\n",
    "\n",
    "#     # Conv1D block 1\n",
    "#     model.add(Conv1D(filters=64, kernel_size=3, strides=1, padding='same',\n",
    "#                      kernel_regularizer=l2(1e-4), input_shape=input_shape))\n",
    "#     model.add(BatchNormalization())\n",
    "#     model.add(LeakyReLU())\n",
    "\n",
    "#     # Conv1D block 2 (downsampling via stride instead of pooling)\n",
    "#     model.add(Conv1D(filters=64, kernel_size=3, strides=2, padding='same',\n",
    "#                      kernel_regularizer=l2(1e-4)))\n",
    "#     model.add(BatchNormalization())\n",
    "#     model.add(LeakyReLU())\n",
    "#     model.add(Dropout(0.3))\n",
    "\n",
    "#     # BiLSTM\n",
    "#     model.add(Bidirectional(LSTM(96, return_sequences=False, dropout=0.3)))\n",
    "\n",
    "#     # Dense block\n",
    "#     model.add(Dense(128, kernel_regularizer=l2(1e-4)))\n",
    "#     model.add(LeakyReLU())\n",
    "#     model.add(Dropout(0.3))\n",
    "\n",
    "#     model.add(Dense(output_shape, activation='linear'))\n",
    "\n",
    "#     return model\n"
   ]
  },
  {
   "cell_type": "code",
   "execution_count": 101,
   "id": "f371c6e2",
   "metadata": {},
   "outputs": [
    {
     "data": {
      "text/plain": [
       "384"
      ]
     },
     "execution_count": 101,
     "metadata": {},
     "output_type": "execute_result"
    }
   ],
   "source": [
    "X_train_scaled.shape[1]"
   ]
  },
  {
   "cell_type": "code",
   "execution_count": 102,
   "id": "f38bd27e",
   "metadata": {},
   "outputs": [
    {
     "data": {
      "text/plain": [
       "21"
      ]
     },
     "execution_count": 102,
     "metadata": {},
     "output_type": "execute_result"
    }
   ],
   "source": [
    "X_train_scaled.shape[2]"
   ]
  },
  {
   "cell_type": "code",
   "execution_count": 103,
   "id": "4e912016",
   "metadata": {},
   "outputs": [
    {
     "data": {
      "text/html": [
       "<pre style=\"white-space:pre;overflow-x:auto;line-height:normal;font-family:Menlo,'DejaVu Sans Mono',consolas,'Courier New',monospace\"><span style=\"font-weight: bold\">Model: \"sequential_1\"</span>\n",
       "</pre>\n"
      ],
      "text/plain": [
       "\u001b[1mModel: \"sequential_1\"\u001b[0m\n"
      ]
     },
     "metadata": {},
     "output_type": "display_data"
    },
    {
     "data": {
      "text/html": [
       "<pre style=\"white-space:pre;overflow-x:auto;line-height:normal;font-family:Menlo,'DejaVu Sans Mono',consolas,'Courier New',monospace\">┏━━━━━━━━━━━━━━━━━━━━━━━━━━━━━━━━━┳━━━━━━━━━━━━━━━━━━━━━━━━┳━━━━━━━━━━━━━━━┓\n",
       "┃<span style=\"font-weight: bold\"> Layer (type)                    </span>┃<span style=\"font-weight: bold\"> Output Shape           </span>┃<span style=\"font-weight: bold\">       Param # </span>┃\n",
       "┡━━━━━━━━━━━━━━━━━━━━━━━━━━━━━━━━━╇━━━━━━━━━━━━━━━━━━━━━━━━╇━━━━━━━━━━━━━━━┩\n",
       "│ conv1d_1 (<span style=\"color: #0087ff; text-decoration-color: #0087ff\">Conv1D</span>)               │ (<span style=\"color: #00d7ff; text-decoration-color: #00d7ff\">None</span>, <span style=\"color: #00af00; text-decoration-color: #00af00\">384</span>, <span style=\"color: #00af00; text-decoration-color: #00af00\">64</span>)        │         <span style=\"color: #00af00; text-decoration-color: #00af00\">4,096</span> │\n",
       "├─────────────────────────────────┼────────────────────────┼───────────────┤\n",
       "│ batch_normalization_1           │ (<span style=\"color: #00d7ff; text-decoration-color: #00d7ff\">None</span>, <span style=\"color: #00af00; text-decoration-color: #00af00\">384</span>, <span style=\"color: #00af00; text-decoration-color: #00af00\">64</span>)        │           <span style=\"color: #00af00; text-decoration-color: #00af00\">256</span> │\n",
       "│ (<span style=\"color: #0087ff; text-decoration-color: #0087ff\">BatchNormalization</span>)            │                        │               │\n",
       "├─────────────────────────────────┼────────────────────────┼───────────────┤\n",
       "│ leaky_re_lu_2 (<span style=\"color: #0087ff; text-decoration-color: #0087ff\">LeakyReLU</span>)       │ (<span style=\"color: #00d7ff; text-decoration-color: #00d7ff\">None</span>, <span style=\"color: #00af00; text-decoration-color: #00af00\">384</span>, <span style=\"color: #00af00; text-decoration-color: #00af00\">64</span>)        │             <span style=\"color: #00af00; text-decoration-color: #00af00\">0</span> │\n",
       "├─────────────────────────────────┼────────────────────────┼───────────────┤\n",
       "│ max_pooling1d_1 (<span style=\"color: #0087ff; text-decoration-color: #0087ff\">MaxPooling1D</span>)  │ (<span style=\"color: #00d7ff; text-decoration-color: #00d7ff\">None</span>, <span style=\"color: #00af00; text-decoration-color: #00af00\">192</span>, <span style=\"color: #00af00; text-decoration-color: #00af00\">64</span>)        │             <span style=\"color: #00af00; text-decoration-color: #00af00\">0</span> │\n",
       "├─────────────────────────────────┼────────────────────────┼───────────────┤\n",
       "│ dropout_2 (<span style=\"color: #0087ff; text-decoration-color: #0087ff\">Dropout</span>)             │ (<span style=\"color: #00d7ff; text-decoration-color: #00d7ff\">None</span>, <span style=\"color: #00af00; text-decoration-color: #00af00\">192</span>, <span style=\"color: #00af00; text-decoration-color: #00af00\">64</span>)        │             <span style=\"color: #00af00; text-decoration-color: #00af00\">0</span> │\n",
       "├─────────────────────────────────┼────────────────────────┼───────────────┤\n",
       "│ bidirectional_2 (<span style=\"color: #0087ff; text-decoration-color: #0087ff\">Bidirectional</span>) │ (<span style=\"color: #00d7ff; text-decoration-color: #00d7ff\">None</span>, <span style=\"color: #00af00; text-decoration-color: #00af00\">192</span>, <span style=\"color: #00af00; text-decoration-color: #00af00\">128</span>)       │        <span style=\"color: #00af00; text-decoration-color: #00af00\">66,048</span> │\n",
       "├─────────────────────────────────┼────────────────────────┼───────────────┤\n",
       "│ bidirectional_3 (<span style=\"color: #0087ff; text-decoration-color: #0087ff\">Bidirectional</span>) │ (<span style=\"color: #00d7ff; text-decoration-color: #00d7ff\">None</span>, <span style=\"color: #00af00; text-decoration-color: #00af00\">64</span>)             │        <span style=\"color: #00af00; text-decoration-color: #00af00\">41,216</span> │\n",
       "├─────────────────────────────────┼────────────────────────┼───────────────┤\n",
       "│ dense_2 (<span style=\"color: #0087ff; text-decoration-color: #0087ff\">Dense</span>)                 │ (<span style=\"color: #00d7ff; text-decoration-color: #00d7ff\">None</span>, <span style=\"color: #00af00; text-decoration-color: #00af00\">64</span>)             │         <span style=\"color: #00af00; text-decoration-color: #00af00\">4,160</span> │\n",
       "├─────────────────────────────────┼────────────────────────┼───────────────┤\n",
       "│ leaky_re_lu_3 (<span style=\"color: #0087ff; text-decoration-color: #0087ff\">LeakyReLU</span>)       │ (<span style=\"color: #00d7ff; text-decoration-color: #00d7ff\">None</span>, <span style=\"color: #00af00; text-decoration-color: #00af00\">64</span>)             │             <span style=\"color: #00af00; text-decoration-color: #00af00\">0</span> │\n",
       "├─────────────────────────────────┼────────────────────────┼───────────────┤\n",
       "│ dropout_3 (<span style=\"color: #0087ff; text-decoration-color: #0087ff\">Dropout</span>)             │ (<span style=\"color: #00d7ff; text-decoration-color: #00d7ff\">None</span>, <span style=\"color: #00af00; text-decoration-color: #00af00\">64</span>)             │             <span style=\"color: #00af00; text-decoration-color: #00af00\">0</span> │\n",
       "├─────────────────────────────────┼────────────────────────┼───────────────┤\n",
       "│ dense_3 (<span style=\"color: #0087ff; text-decoration-color: #0087ff\">Dense</span>)                 │ (<span style=\"color: #00d7ff; text-decoration-color: #00d7ff\">None</span>, <span style=\"color: #00af00; text-decoration-color: #00af00\">192</span>)            │        <span style=\"color: #00af00; text-decoration-color: #00af00\">12,480</span> │\n",
       "└─────────────────────────────────┴────────────────────────┴───────────────┘\n",
       "</pre>\n"
      ],
      "text/plain": [
       "┏━━━━━━━━━━━━━━━━━━━━━━━━━━━━━━━━━┳━━━━━━━━━━━━━━━━━━━━━━━━┳━━━━━━━━━━━━━━━┓\n",
       "┃\u001b[1m \u001b[0m\u001b[1mLayer (type)                   \u001b[0m\u001b[1m \u001b[0m┃\u001b[1m \u001b[0m\u001b[1mOutput Shape          \u001b[0m\u001b[1m \u001b[0m┃\u001b[1m \u001b[0m\u001b[1m      Param #\u001b[0m\u001b[1m \u001b[0m┃\n",
       "┡━━━━━━━━━━━━━━━━━━━━━━━━━━━━━━━━━╇━━━━━━━━━━━━━━━━━━━━━━━━╇━━━━━━━━━━━━━━━┩\n",
       "│ conv1d_1 (\u001b[38;5;33mConv1D\u001b[0m)               │ (\u001b[38;5;45mNone\u001b[0m, \u001b[38;5;34m384\u001b[0m, \u001b[38;5;34m64\u001b[0m)        │         \u001b[38;5;34m4,096\u001b[0m │\n",
       "├─────────────────────────────────┼────────────────────────┼───────────────┤\n",
       "│ batch_normalization_1           │ (\u001b[38;5;45mNone\u001b[0m, \u001b[38;5;34m384\u001b[0m, \u001b[38;5;34m64\u001b[0m)        │           \u001b[38;5;34m256\u001b[0m │\n",
       "│ (\u001b[38;5;33mBatchNormalization\u001b[0m)            │                        │               │\n",
       "├─────────────────────────────────┼────────────────────────┼───────────────┤\n",
       "│ leaky_re_lu_2 (\u001b[38;5;33mLeakyReLU\u001b[0m)       │ (\u001b[38;5;45mNone\u001b[0m, \u001b[38;5;34m384\u001b[0m, \u001b[38;5;34m64\u001b[0m)        │             \u001b[38;5;34m0\u001b[0m │\n",
       "├─────────────────────────────────┼────────────────────────┼───────────────┤\n",
       "│ max_pooling1d_1 (\u001b[38;5;33mMaxPooling1D\u001b[0m)  │ (\u001b[38;5;45mNone\u001b[0m, \u001b[38;5;34m192\u001b[0m, \u001b[38;5;34m64\u001b[0m)        │             \u001b[38;5;34m0\u001b[0m │\n",
       "├─────────────────────────────────┼────────────────────────┼───────────────┤\n",
       "│ dropout_2 (\u001b[38;5;33mDropout\u001b[0m)             │ (\u001b[38;5;45mNone\u001b[0m, \u001b[38;5;34m192\u001b[0m, \u001b[38;5;34m64\u001b[0m)        │             \u001b[38;5;34m0\u001b[0m │\n",
       "├─────────────────────────────────┼────────────────────────┼───────────────┤\n",
       "│ bidirectional_2 (\u001b[38;5;33mBidirectional\u001b[0m) │ (\u001b[38;5;45mNone\u001b[0m, \u001b[38;5;34m192\u001b[0m, \u001b[38;5;34m128\u001b[0m)       │        \u001b[38;5;34m66,048\u001b[0m │\n",
       "├─────────────────────────────────┼────────────────────────┼───────────────┤\n",
       "│ bidirectional_3 (\u001b[38;5;33mBidirectional\u001b[0m) │ (\u001b[38;5;45mNone\u001b[0m, \u001b[38;5;34m64\u001b[0m)             │        \u001b[38;5;34m41,216\u001b[0m │\n",
       "├─────────────────────────────────┼────────────────────────┼───────────────┤\n",
       "│ dense_2 (\u001b[38;5;33mDense\u001b[0m)                 │ (\u001b[38;5;45mNone\u001b[0m, \u001b[38;5;34m64\u001b[0m)             │         \u001b[38;5;34m4,160\u001b[0m │\n",
       "├─────────────────────────────────┼────────────────────────┼───────────────┤\n",
       "│ leaky_re_lu_3 (\u001b[38;5;33mLeakyReLU\u001b[0m)       │ (\u001b[38;5;45mNone\u001b[0m, \u001b[38;5;34m64\u001b[0m)             │             \u001b[38;5;34m0\u001b[0m │\n",
       "├─────────────────────────────────┼────────────────────────┼───────────────┤\n",
       "│ dropout_3 (\u001b[38;5;33mDropout\u001b[0m)             │ (\u001b[38;5;45mNone\u001b[0m, \u001b[38;5;34m64\u001b[0m)             │             \u001b[38;5;34m0\u001b[0m │\n",
       "├─────────────────────────────────┼────────────────────────┼───────────────┤\n",
       "│ dense_3 (\u001b[38;5;33mDense\u001b[0m)                 │ (\u001b[38;5;45mNone\u001b[0m, \u001b[38;5;34m192\u001b[0m)            │        \u001b[38;5;34m12,480\u001b[0m │\n",
       "└─────────────────────────────────┴────────────────────────┴───────────────┘\n"
      ]
     },
     "metadata": {},
     "output_type": "display_data"
    },
    {
     "data": {
      "text/html": [
       "<pre style=\"white-space:pre;overflow-x:auto;line-height:normal;font-family:Menlo,'DejaVu Sans Mono',consolas,'Courier New',monospace\"><span style=\"font-weight: bold\"> Total params: </span><span style=\"color: #00af00; text-decoration-color: #00af00\">128,256</span> (501.00 KB)\n",
       "</pre>\n"
      ],
      "text/plain": [
       "\u001b[1m Total params: \u001b[0m\u001b[38;5;34m128,256\u001b[0m (501.00 KB)\n"
      ]
     },
     "metadata": {},
     "output_type": "display_data"
    },
    {
     "data": {
      "text/html": [
       "<pre style=\"white-space:pre;overflow-x:auto;line-height:normal;font-family:Menlo,'DejaVu Sans Mono',consolas,'Courier New',monospace\"><span style=\"font-weight: bold\"> Trainable params: </span><span style=\"color: #00af00; text-decoration-color: #00af00\">128,128</span> (500.50 KB)\n",
       "</pre>\n"
      ],
      "text/plain": [
       "\u001b[1m Trainable params: \u001b[0m\u001b[38;5;34m128,128\u001b[0m (500.50 KB)\n"
      ]
     },
     "metadata": {},
     "output_type": "display_data"
    },
    {
     "data": {
      "text/html": [
       "<pre style=\"white-space:pre;overflow-x:auto;line-height:normal;font-family:Menlo,'DejaVu Sans Mono',consolas,'Courier New',monospace\"><span style=\"font-weight: bold\"> Non-trainable params: </span><span style=\"color: #00af00; text-decoration-color: #00af00\">128</span> (512.00 B)\n",
       "</pre>\n"
      ],
      "text/plain": [
       "\u001b[1m Non-trainable params: \u001b[0m\u001b[38;5;34m128\u001b[0m (512.00 B)\n"
      ]
     },
     "metadata": {},
     "output_type": "display_data"
    }
   ],
   "source": [
    "from tensorflow.keras.losses import Huber\n",
    "\n",
    "input_shape = (X_train_scaled.shape[1], X_train_scaled.shape[2])\n",
    "output_shape = y_train_scaled.shape[1]\n",
    "\n",
    "model = create_improved_model(input_shape, output_shape)\n",
    "model.compile(\n",
    "    optimizer=Adam(learning_rate=0.0005, clipnorm=1.0),\n",
    "    loss=Huber(delta=1.5),  # Handles outliers gracefully\n",
    "    metrics=['mae', 'mse']\n",
    ")\n",
    "model.summary()\n"
   ]
  },
  {
   "cell_type": "code",
   "execution_count": 104,
   "id": "4277cac3",
   "metadata": {},
   "outputs": [],
   "source": [
    "# Callbacks\n",
    "callbacks = [\n",
    "    EarlyStopping(monitor='val_loss', patience=8, restore_best_weights=True, verbose=1),\n",
    "    ReduceLROnPlateau(monitor='val_loss', factor=0.5, patience=4, min_lr=1e-7, verbose=1)\n",
    "]"
   ]
  },
  {
   "cell_type": "code",
   "execution_count": 105,
   "id": "3181dcea",
   "metadata": {},
   "outputs": [
    {
     "name": "stdout",
     "output_type": "stream",
     "text": [
      "🚀 Training Improved Model...\n",
      "Epoch 1/60\n",
      "\u001b[1m1117/1117\u001b[0m \u001b[32m━━━━━━━━━━━━━━━━━━━━\u001b[0m\u001b[37m\u001b[0m \u001b[1m257s\u001b[0m 223ms/step - loss: 0.6181 - mae: 0.7946 - mse: 1.4971 - val_loss: 0.6519 - val_mae: 0.9627 - val_mse: 1.4625 - learning_rate: 5.0000e-04\n",
      "Epoch 2/60\n",
      "\u001b[1m1117/1117\u001b[0m \u001b[32m━━━━━━━━━━━━━━━━━━━━\u001b[0m\u001b[37m\u001b[0m \u001b[1m227s\u001b[0m 204ms/step - loss: 0.4674 - mae: 0.6642 - mse: 1.0886 - val_loss: 0.6809 - val_mae: 0.9600 - val_mse: 1.5706 - learning_rate: 5.0000e-04\n",
      "Epoch 3/60\n",
      "\u001b[1m1117/1117\u001b[0m \u001b[32m━━━━━━━━━━━━━━━━━━━━\u001b[0m\u001b[37m\u001b[0m \u001b[1m233s\u001b[0m 209ms/step - loss: 0.4288 - mae: 0.6298 - mse: 0.9901 - val_loss: 0.6966 - val_mae: 0.9549 - val_mse: 1.6864 - learning_rate: 5.0000e-04\n",
      "Epoch 4/60\n",
      "\u001b[1m1117/1117\u001b[0m \u001b[32m━━━━━━━━━━━━━━━━━━━━\u001b[0m\u001b[37m\u001b[0m \u001b[1m232s\u001b[0m 208ms/step - loss: 0.3854 - mae: 0.5912 - mse: 0.8772 - val_loss: 0.7010 - val_mae: 0.9523 - val_mse: 1.6708 - learning_rate: 5.0000e-04\n",
      "Epoch 5/60\n",
      "\u001b[1m1117/1117\u001b[0m \u001b[32m━━━━━━━━━━━━━━━━━━━━\u001b[0m\u001b[37m\u001b[0m \u001b[1m0s\u001b[0m 192ms/step - loss: 0.3490 - mae: 0.5576 - mse: 0.7870\n",
      "Epoch 5: ReduceLROnPlateau reducing learning rate to 0.0002500000118743628.\n",
      "\u001b[1m1117/1117\u001b[0m \u001b[32m━━━━━━━━━━━━━━━━━━━━\u001b[0m\u001b[37m\u001b[0m \u001b[1m232s\u001b[0m 208ms/step - loss: 0.3490 - mae: 0.5576 - mse: 0.7870 - val_loss: 0.7908 - val_mae: 1.0379 - val_mse: 1.9383 - learning_rate: 5.0000e-04\n",
      "Epoch 6/60\n",
      "\u001b[1m1117/1117\u001b[0m \u001b[32m━━━━━━━━━━━━━━━━━━━━\u001b[0m\u001b[37m\u001b[0m \u001b[1m234s\u001b[0m 209ms/step - loss: 0.3174 - mae: 0.5261 - mse: 0.7118 - val_loss: 0.8709 - val_mae: 1.1085 - val_mse: 2.1534 - learning_rate: 2.5000e-04\n",
      "Epoch 7/60\n",
      "\u001b[1m1117/1117\u001b[0m \u001b[32m━━━━━━━━━━━━━━━━━━━━\u001b[0m\u001b[37m\u001b[0m \u001b[1m233s\u001b[0m 209ms/step - loss: 0.3050 - mae: 0.5132 - mse: 0.6815 - val_loss: 0.8641 - val_mae: 1.1021 - val_mse: 2.1556 - learning_rate: 2.5000e-04\n",
      "Epoch 8/60\n",
      "\u001b[1m1117/1117\u001b[0m \u001b[32m━━━━━━━━━━━━━━━━━━━━\u001b[0m\u001b[37m\u001b[0m \u001b[1m234s\u001b[0m 210ms/step - loss: 0.2920 - mae: 0.5008 - mse: 0.6473 - val_loss: 0.9464 - val_mae: 1.1535 - val_mse: 2.3927 - learning_rate: 2.5000e-04\n",
      "Epoch 9/60\n",
      "\u001b[1m1117/1117\u001b[0m \u001b[32m━━━━━━━━━━━━━━━━━━━━\u001b[0m\u001b[37m\u001b[0m \u001b[1m0s\u001b[0m 194ms/step - loss: 0.2813 - mae: 0.4902 - mse: 0.6188\n",
      "Epoch 9: ReduceLROnPlateau reducing learning rate to 0.0001250000059371814.\n",
      "\u001b[1m1117/1117\u001b[0m \u001b[32m━━━━━━━━━━━━━━━━━━━━\u001b[0m\u001b[37m\u001b[0m \u001b[1m234s\u001b[0m 210ms/step - loss: 0.2813 - mae: 0.4902 - mse: 0.6188 - val_loss: 0.9127 - val_mae: 1.1390 - val_mse: 2.2903 - learning_rate: 2.5000e-04\n",
      "Epoch 9: early stopping\n",
      "Restoring model weights from the end of the best epoch: 1.\n",
      "✅ Training completed\n"
     ]
    }
   ],
   "source": [
    "print(\"🚀 Training Improved Model...\")\n",
    "history = model.fit(\n",
    "    X_train_scaled, y_train_scaled,\n",
    "    validation_data=(X_val_scaled, y_val_scaled),\n",
    "    epochs=60,\n",
    "    batch_size=64,\n",
    "    callbacks=callbacks,\n",
    "    verbose=1\n",
    ")\n",
    "print(\"✅ Training completed\")\n"
   ]
  },
  {
   "cell_type": "code",
   "execution_count": 106,
   "id": "9919b7fe",
   "metadata": {},
   "outputs": [
    {
     "name": "stdout",
     "output_type": "stream",
     "text": [
      "📈 Making predictions...\n",
      "✅ Predictions completed\n"
     ]
    }
   ],
   "source": [
    "# 📈 Make predictions\n",
    "print(\"📈 Making predictions...\")\n",
    "y_train_pred_scaled = model.predict(X_train_scaled, verbose=0)\n",
    "y_val_pred_scaled = model.predict(X_val_scaled, verbose=0)\n",
    "y_test_pred_scaled = model.predict(X_test_scaled, verbose=0)\n",
    "\n",
    "# 🔧 Reshape predictions if 3D (e.g., (N, 1, 2) → (N, 2))\n",
    "if len(y_train_pred_scaled.shape) == 3:\n",
    "    y_train_pred_scaled = y_train_pred_scaled.reshape(y_train_pred_scaled.shape[0], -1)\n",
    "    y_val_pred_scaled = y_val_pred_scaled.reshape(y_val_pred_scaled.shape[0], -1)\n",
    "    y_test_pred_scaled = y_test_pred_scaled.reshape(y_test_pred_scaled.shape[0], -1)\n",
    "\n",
    "# 🔧 Reshape targets if 3D\n",
    "if len(y_train_scaled.shape) == 3:\n",
    "    y_train_scaled = y_train_scaled.reshape(y_train_scaled.shape[0], -1)\n",
    "    y_val_scaled = y_val_scaled.reshape(y_val_scaled.shape[0], -1)\n",
    "    y_test_scaled = y_test_scaled.reshape(y_test_scaled.shape[0], -1)\n",
    "\n",
    "# 🔄 Inverse transform predictions\n",
    "y_train_pred = target_scaler.inverse_transform(y_train_pred_scaled)\n",
    "y_val_pred = target_scaler.inverse_transform(y_val_pred_scaled)\n",
    "y_test_pred = target_scaler.inverse_transform(y_test_pred_scaled)\n",
    "\n",
    "# 🔄 Inverse transform actuals\n",
    "y_train_actual = target_scaler.inverse_transform(y_train_scaled)\n",
    "y_val_actual = target_scaler.inverse_transform(y_val_scaled)\n",
    "y_test_actual = target_scaler.inverse_transform(y_test_scaled)\n",
    "\n",
    "print(\"✅ Predictions completed\")\n"
   ]
  },
  {
   "cell_type": "code",
   "execution_count": 107,
   "id": "43875512",
   "metadata": {},
   "outputs": [
    {
     "name": "stdout",
     "output_type": "stream",
     "text": [
      "Training perf\n",
      "------------------------------------------------------------\n",
      "Hour  0.2: MAE= 2.161°C, RMSE= 3.471°C, R²= 0.925, MAPE=  5.34%\n",
      "Hour  3.0: MAE= 3.524°C, RMSE= 5.685°C, R²= 0.799, MAPE=  7.89%\n",
      "Hour  5.8: MAE= 4.446°C, RMSE= 7.004°C, R²= 0.695, MAPE=  9.68%\n",
      "Hour  8.5: MAE= 4.902°C, RMSE= 7.638°C, R²= 0.637, MAPE= 10.56%\n",
      "Hour 11.2: MAE= 5.061°C, RMSE= 7.955°C, R²= 0.607, MAPE= 10.98%\n",
      "Hour 14.0: MAE= 5.205°C, RMSE= 8.179°C, R²= 0.584, MAPE= 11.50%\n",
      "Hour 16.8: MAE= 5.312°C, RMSE= 8.385°C, R²= 0.563, MAPE= 11.83%\n",
      "Hour 19.5: MAE= 5.400°C, RMSE= 8.582°C, R²= 0.542, MAPE= 12.13%\n",
      "Hour 22.2: MAE= 5.535°C, RMSE= 8.807°C, R²= 0.518, MAPE= 12.48%\n",
      "Hour 25.0: MAE= 5.656°C, RMSE= 8.979°C, R²= 0.499, MAPE= 12.77%\n",
      "Hour 27.8: MAE= 5.865°C, RMSE= 9.276°C, R²= 0.466, MAPE= 13.33%\n",
      "Hour 30.5: MAE= 6.063°C, RMSE= 9.503°C, R²= 0.439, MAPE= 13.82%\n",
      "Hour 33.2: MAE= 6.130°C, RMSE= 9.615°C, R²= 0.426, MAPE= 14.06%\n",
      "Hour 36.0: MAE= 6.138°C, RMSE= 9.739°C, R²= 0.411, MAPE= 14.19%\n",
      "Hour 38.8: MAE= 6.220°C, RMSE= 9.835°C, R²= 0.399, MAPE= 14.46%\n",
      "Hour 41.5: MAE= 6.328°C, RMSE=10.008°C, R²= 0.377, MAPE= 14.82%\n",
      "Hour 44.2: MAE= 6.458°C, RMSE=10.149°C, R²= 0.360, MAPE= 15.14%\n",
      "Hour 47.0: MAE= 6.534°C, RMSE=10.296°C, R²= 0.341, MAPE= 15.40%\n",
      "------------------------------------------------------------\n",
      "Overall: MAE=5.385°C, RMSE=8.506°C, R²=0.533, MAPE=12.24%\n",
      "Validation perf\n",
      "------------------------------------------------------------\n",
      "Hour  0.2: MAE= 4.405°C, RMSE= 6.127°C, R²= 0.887, MAPE= 10.25%\n",
      "Hour  3.0: MAE= 5.775°C, RMSE= 7.659°C, R²= 0.824, MAPE= 12.78%\n",
      "Hour  5.8: MAE= 7.026°C, RMSE= 9.034°C, R²= 0.755, MAPE= 15.29%\n",
      "Hour  8.5: MAE= 7.731°C, RMSE= 9.746°C, R²= 0.714, MAPE= 16.58%\n",
      "Hour 11.2: MAE= 8.058°C, RMSE=10.077°C, R²= 0.694, MAPE= 17.32%\n",
      "Hour 14.0: MAE= 8.336°C, RMSE=10.223°C, R²= 0.685, MAPE= 18.14%\n",
      "Hour 16.8: MAE= 8.424°C, RMSE=10.256°C, R²= 0.682, MAPE= 18.51%\n",
      "Hour 19.5: MAE= 8.323°C, RMSE=10.183°C, R²= 0.686, MAPE= 18.32%\n",
      "Hour 22.2: MAE= 8.137°C, RMSE=10.184°C, R²= 0.686, MAPE= 17.86%\n",
      "Hour 25.0: MAE= 8.240°C, RMSE=10.370°C, R²= 0.673, MAPE= 18.12%\n",
      "Hour 27.8: MAE= 8.576°C, RMSE=10.740°C, R²= 0.649, MAPE= 19.09%\n",
      "Hour 30.5: MAE= 8.736°C, RMSE=10.922°C, R²= 0.637, MAPE= 19.31%\n",
      "Hour 33.2: MAE= 8.975°C, RMSE=11.084°C, R²= 0.625, MAPE= 19.93%\n",
      "Hour 36.0: MAE= 9.122°C, RMSE=11.181°C, R²= 0.618, MAPE= 20.26%\n",
      "Hour 38.8: MAE= 9.142°C, RMSE=11.162°C, R²= 0.619, MAPE= 20.39%\n",
      "Hour 41.5: MAE= 9.265°C, RMSE=11.322°C, R²= 0.607, MAPE= 20.90%\n",
      "Hour 44.2: MAE= 9.291°C, RMSE=11.370°C, R²= 0.603, MAPE= 21.04%\n",
      "Hour 47.0: MAE= 9.199°C, RMSE=11.406°C, R²= 0.600, MAPE= 20.86%\n",
      "------------------------------------------------------------\n",
      "Overall: MAE=8.153°C, RMSE=10.169°C, R²=0.680, MAPE=18.05%\n",
      "Test perf\n",
      "------------------------------------------------------------\n",
      "Hour  0.2: MAE= 3.152°C, RMSE= 4.293°C, R²= 0.928, MAPE=  7.99%\n",
      "Hour  3.0: MAE= 4.074°C, RMSE= 6.002°C, R²= 0.860, MAPE=  9.55%\n",
      "Hour  5.8: MAE= 4.809°C, RMSE= 7.170°C, R²= 0.800, MAPE= 11.24%\n",
      "Hour  8.5: MAE= 5.066°C, RMSE= 7.766°C, R²= 0.766, MAPE= 11.79%\n",
      "Hour 11.2: MAE= 5.377°C, RMSE= 8.208°C, R²= 0.738, MAPE= 12.59%\n",
      "Hour 14.0: MAE= 5.692°C, RMSE= 8.296°C, R²= 0.733, MAPE= 13.77%\n",
      "Hour 16.8: MAE= 5.940°C, RMSE= 8.371°C, R²= 0.729, MAPE= 14.67%\n",
      "Hour 19.5: MAE= 6.093°C, RMSE= 8.392°C, R²= 0.728, MAPE= 15.20%\n",
      "Hour 22.2: MAE= 5.880°C, RMSE= 8.277°C, R²= 0.735, MAPE= 14.47%\n",
      "Hour 25.0: MAE= 5.946°C, RMSE= 8.239°C, R²= 0.738, MAPE= 14.74%\n",
      "Hour 27.8: MAE= 6.524°C, RMSE= 8.721°C, R²= 0.708, MAPE= 16.52%\n",
      "Hour 30.5: MAE= 6.366°C, RMSE= 8.771°C, R²= 0.705, MAPE= 15.92%\n",
      "Hour 33.2: MAE= 6.481°C, RMSE= 8.884°C, R²= 0.698, MAPE= 16.39%\n",
      "Hour 36.0: MAE= 6.567°C, RMSE= 8.957°C, R²= 0.693, MAPE= 16.74%\n",
      "Hour 38.8: MAE= 6.645°C, RMSE= 8.923°C, R²= 0.696, MAPE= 17.05%\n",
      "Hour 41.5: MAE= 7.018°C, RMSE= 9.111°C, R²= 0.683, MAPE= 18.26%\n",
      "Hour 44.2: MAE= 7.473°C, RMSE= 9.356°C, R²= 0.667, MAPE= 19.63%\n",
      "Hour 47.0: MAE= 7.300°C, RMSE= 9.204°C, R²= 0.678, MAPE= 19.12%\n",
      "------------------------------------------------------------\n",
      "Overall: MAE=5.911°C, RMSE=8.163°C, R²=0.738, MAPE=14.76%\n"
     ]
    }
   ],
   "source": [
    "def evaluate_predictions_all_steps(y_true, y_pred, dataset_name):\n",
    "    print(f\"{dataset_name} perf\")\n",
    "    print(\"-\" * 60)\n",
    "    mae_scores, rmse_scores, r2_scores, mape_scores = [], [], [], []\n",
    "\n",
    "    for step in range(0, y_true.shape[1], 11):  # Changed step size to 1\n",
    "        mae = mean_absolute_error(y_true[:, step], y_pred[:, step])\n",
    "        rmse = np.sqrt(mean_squared_error(y_true[:, step], y_pred[:, step]))\n",
    "        r2 = r2_score(y_true[:, step], y_pred[:, step])\n",
    "        non_zero_mask = y_true[:, step] != 0\n",
    "        mape = np.mean(np.abs((y_true[non_zero_mask, step] - y_pred[non_zero_mask, step]) / y_true[non_zero_mask, step])) * 100 if np.any(non_zero_mask) else np.nan\n",
    "\n",
    "        mae_scores.append(mae)\n",
    "        rmse_scores.append(rmse)\n",
    "        r2_scores.append(r2)\n",
    "        mape_scores.append(mape)\n",
    "\n",
    "        forecast_hr = (step + 1) * 0.25\n",
    "        print(f\"Hour {forecast_hr:4.1f}: MAE={mae:6.3f}°C, RMSE={rmse:6.3f}°C, R²={r2:6.3f}, MAPE={mape:6.2f}%\")\n",
    "\n",
    "    print(\"-\" * 60)\n",
    "    print(f\"Overall: MAE={np.mean(mae_scores):.3f}°C, RMSE={np.mean(rmse_scores):.3f}°C, R²={np.mean(r2_scores):.3f}, MAPE={np.nanmean(mape_scores):.2f}%\")\n",
    "\n",
    "    return mae_scores, rmse_scores, r2_scores, mape_scores\n",
    "\n",
    "train_mae, train_rmse, train_r2, train_mape = evaluate_predictions_all_steps(y_train_actual, y_train_pred, \"Training\")\n",
    "val_mae, val_rmse, val_r2, val_mape = evaluate_predictions_all_steps(y_val_actual, y_val_pred, \"Validation\")\n",
    "test_mae, test_rmse, test_r2, test_mape = evaluate_predictions_all_steps(y_test_actual, y_test_pred, \"Test\")"
   ]
  },
  {
   "cell_type": "code",
   "execution_count": 112,
   "id": "46cf4306",
   "metadata": {},
   "outputs": [
    {
     "name": "stdout",
     "output_type": "stream",
     "text": [
      "📊 Threshold Analysis on LSTM Actual Temperatures:\n",
      "🧪 Forecast samples (rows): 14865\n",
      "🔮 Forecast steps per sample: 192\n",
      "🔥 Samples with at least one prediction above 70.0°C: 5029\n",
      "📈 Percentage of individual predictions exceeding threshold: 6.37%\n",
      "📊 Sample-level percentage exceeding 70.0°C: 33.83%\n"
     ]
    }
   ],
   "source": [
    "import numpy as np\n",
    "\n",
    "# Inverse transform y_test to get actual temperatures\n",
    "y_test_actual = target_scaler.inverse_transform(y_test_scaled)\n",
    "\n",
    "# Flatten and check how many values exceed 85th percentile\n",
    "threshold = 70.00\n",
    "y_test_flat = y_test_actual.flatten()\n",
    "over_threshold = np.sum(y_test_flat > threshold)\n",
    "total_points = y_test_flat.size\n",
    "\n",
    "# Count samples with at least one prediction above threshold\n",
    "samples_above_threshold = np.sum(np.any(y_test_actual > threshold, axis=1))\n",
    "\n",
    "# Extract shape details\n",
    "num_samples, forecast_steps = y_test_actual.shape\n",
    "percentage = (over_threshold / total_points) * 100\n",
    "\n",
    "# Nicely formatted display\n",
    "print(\"📊 Threshold Analysis on LSTM Actual Temperatures:\")\n",
    "print(f\"🧪 Forecast samples (rows): {num_samples}\")\n",
    "print(f\"🔮 Forecast steps per sample: {forecast_steps}\")\n",
    "# print(f\"🌡️ Total temperature predictions: {num_samples} × {forecast_steps} = {total_points}\")\n",
    "# print(f\"⚠️ Individual predictions above {threshold}°C: {over_threshold}\")\n",
    "print(f\"🔥 Samples with at least one prediction above {threshold}°C: {samples_above_threshold}\")\n",
    "print(f\"📈 Percentage of individual predictions exceeding threshold: {percentage:.2f}%\")\n",
    "sample_level_percentage = (samples_above_threshold / num_samples) * 100\n",
    "print(f\"📊 Sample-level percentage exceeding {threshold}°C: {sample_level_percentage:.2f}%\")\n"
   ]
  },
  {
   "cell_type": "code",
   "execution_count": null,
   "id": "da0516c9",
   "metadata": {},
   "outputs": [
    {
     "name": "stdout",
     "output_type": "stream",
     "text": [
      "\n",
      "📊 safe_prediction_limit Analysis on LSTM Model Predictions:\n",
      "🧪 Forecast samples (rows): 14865\n",
      "🔮 Forecast steps per sample: 192\n",
      "🔥 Samples with at least one prediction above 65.0°C: 3680\n",
      "📈 Percentage of individual predictions exceeding safe_prediction_limit: 12.16%\n",
      "📊 Sample-level percentage exceeding 65.0°C: 24.76%\n"
     ]
    }
   ],
   "source": [
    "import numpy as np\n",
    "MAE = 5\n",
    "safe_prediction_limit = threshold - MAE \n",
    "\n",
    "# Flatten and analyze predictions\n",
    "y_test_pred_flat = y_test_pred.flatten()\n",
    "over_safe_prediction_limit_pred = np.sum(y_test_pred_flat > safe_prediction_limit)\n",
    "total_points_pred = y_test_pred_flat.size\n",
    "\n",
    "\n",
    "\n",
    "# Count samples with at least one prediction above safe_prediction_limit\n",
    "samples_above_safe_prediction_limit_pred = np.sum(np.any(y_test_pred > safe_prediction_limit, axis=1))\n",
    "\n",
    "# Extract shape details\n",
    "num_samples_pred, forecast_steps_pred = y_test_pred.shape\n",
    "percentage_pred = (over_safe_prediction_limit_pred / total_points_pred) * 100\n",
    "\n",
    "# Display nicely\n",
    "print(\"\\n📊 safe_prediction_limit Analysis on LSTM Model Predictions:\")\n",
    "print(f\"🧪 Forecast samples (rows): {num_samples_pred}\")\n",
    "print(f\"🔮 Forecast steps per sample: {forecast_steps_pred}\")\n",
    "# print(f\"🌡️ Total temperature predictions: {num_samples_pred} × {forecast_steps_pred} = {total_points_pred}\")\n",
    "# print(f\"⚠️ Individual predictions above {safe_prediction_limit}°C: {over_safe_prediction_limit_pred}\")\n",
    "print(f\"🔥 Samples with at least one prediction above {safe_prediction_limit}°C: {samples_above_safe_prediction_limit_pred}\")\n",
    "print(f\"📈 Percentage of individual predictions exceeding safe_prediction_limit: {percentage_pred:.2f}%\")\n",
    "# Sample-level percentage\n",
    "sample_level_percentage = (samples_above_safe_prediction_limit_pred / num_samples_pred) * 100\n",
    "\n",
    "# Display\n",
    "print(f\"📊 Sample-level percentage exceeding {safe_prediction_limit}°C: {sample_level_percentage:.2f}%\")\n"
   ]
  },
  {
   "cell_type": "code",
   "execution_count": 115,
   "id": "7c048541",
   "metadata": {},
   "outputs": [
    {
     "name": "stdout",
     "output_type": "stream",
     "text": [
      "\n",
      "📊 Threshold-based Classification Summary (Sample-level)\n",
      "✅ True Positives:  2932\n",
      "❌ False Positives: 748\n",
      "🚫 False Negatives: 2097\n",
      "✅ True Negatives:  9088\n",
      "🎯 Precision:       0.80\n",
      "📈 Recall:          0.58\n",
      "📊 F1 Score:        0.67\n",
      "✅ Accuracy:        80.86%\n"
     ]
    }
   ],
   "source": [
    "import numpy as np\n",
    "\n",
    "# Binary flags for each test sample\n",
    "actual_positive = np.any(y_test_actual > threshold, axis=1)     # Ground truth\n",
    "predicted_positive = np.any(y_test_pred > safe_prediction_limit, axis=1)    # Model output\n",
    "\n",
    "# Metrics\n",
    "TP = np.sum(actual_positive & predicted_positive)\n",
    "FP = np.sum(~actual_positive & predicted_positive)\n",
    "FN = np.sum(actual_positive & ~predicted_positive)\n",
    "TN = np.sum(~actual_positive & ~predicted_positive)\n",
    "\n",
    "# Derived metrics\n",
    "precision = TP / (TP + FP) if (TP + FP) > 0 else 0\n",
    "recall = TP / (TP + FN) if (TP + FN) > 0 else 0\n",
    "f1 = 2 * precision * recall / (precision + recall) if (precision + recall) > 0 else 0\n",
    "accuracy = (TP + TN) / (TP + TN + FP + FN) * 100\n",
    "\n",
    "# Display\n",
    "print(\"\\n📊 Threshold-based Classification Summary (Sample-level)\")\n",
    "print(f\"✅ True Positives:  {TP}\")\n",
    "print(f\"❌ False Positives: {FP}\")\n",
    "print(f\"🚫 False Negatives: {FN}\")\n",
    "print(f\"✅ True Negatives:  {TN}\")\n",
    "print(f\"🎯 Precision:       {precision:.2f}\")\n",
    "print(f\"📈 Recall:          {recall:.2f}\")\n",
    "print(f\"📊 F1 Score:        {f1:.2f}\")\n",
    "print(f\"✅ Accuracy:        {accuracy:.2f}%\")\n"
   ]
  },
  {
   "cell_type": "code",
   "execution_count": 119,
   "id": "05a354e7",
   "metadata": {},
   "outputs": [],
   "source": [
    "def get_actual_vs_predicted_df(y_actual, y_pred, dates, n_samples=20, dataset_name=\"Test\"):\n",
    "    np.random.seed(42)  # For reproducibility\n",
    "    sample_indices = np.random.choice(len(y_actual), size=n_samples, replace=False)\n",
    "    records = []\n",
    "\n",
    "    for i, idx in enumerate(sample_indices):\n",
    "        for step in range(y_actual.shape[1]):\n",
    "            forecast_hour = (step + 1) * 0.25\n",
    "            records.append({\n",
    "                'Sample #': i + 1,\n",
    "                'Start Time': pd.Timestamp(dates[idx]).strftime(\"%Y-%m-%d %H:%M\"),\n",
    "                'Forecast Hour': forecast_hour,\n",
    "                'Actual (°C)': round(y_actual[idx][step], 2),\n",
    "                'Predicted (°C)': round(y_pred[idx][step], 2),\n",
    "                'Abs Error (°C)': round(abs(y_actual[idx][step] - y_pred[idx][step]), 2)\n",
    "            })\n",
    "\n",
    "    df_comparison = pd.DataFrame(records)\n",
    "    return df_comparison"
   ]
  },
  {
   "cell_type": "code",
   "execution_count": 122,
   "id": "4c4975c9",
   "metadata": {},
   "outputs": [
    {
     "data": {
      "text/html": [
       "<div>\n",
       "<style scoped>\n",
       "    .dataframe tbody tr th:only-of-type {\n",
       "        vertical-align: middle;\n",
       "    }\n",
       "\n",
       "    .dataframe tbody tr th {\n",
       "        vertical-align: top;\n",
       "    }\n",
       "\n",
       "    .dataframe thead th {\n",
       "        text-align: right;\n",
       "    }\n",
       "</style>\n",
       "<table border=\"1\" class=\"dataframe\">\n",
       "  <thead>\n",
       "    <tr style=\"text-align: right;\">\n",
       "      <th></th>\n",
       "      <th>Sample #</th>\n",
       "      <th>Start Time</th>\n",
       "      <th>Forecast Hour</th>\n",
       "      <th>Actual (°C)</th>\n",
       "      <th>Predicted (°C)</th>\n",
       "      <th>Abs Error (°C)</th>\n",
       "    </tr>\n",
       "  </thead>\n",
       "  <tbody>\n",
       "    <tr>\n",
       "      <th>0</th>\n",
       "      <td>1</td>\n",
       "      <td>2014-11-15 06:30</td>\n",
       "      <td>0.25</td>\n",
       "      <td>69.67</td>\n",
       "      <td>69.750000</td>\n",
       "      <td>0.09</td>\n",
       "    </tr>\n",
       "    <tr>\n",
       "      <th>1</th>\n",
       "      <td>1</td>\n",
       "      <td>2014-11-15 06:30</td>\n",
       "      <td>0.50</td>\n",
       "      <td>71.00</td>\n",
       "      <td>69.470001</td>\n",
       "      <td>1.53</td>\n",
       "    </tr>\n",
       "    <tr>\n",
       "      <th>2</th>\n",
       "      <td>1</td>\n",
       "      <td>2014-11-15 06:30</td>\n",
       "      <td>0.75</td>\n",
       "      <td>71.67</td>\n",
       "      <td>69.379997</td>\n",
       "      <td>2.29</td>\n",
       "    </tr>\n",
       "    <tr>\n",
       "      <th>3</th>\n",
       "      <td>1</td>\n",
       "      <td>2014-11-15 06:30</td>\n",
       "      <td>1.00</td>\n",
       "      <td>72.00</td>\n",
       "      <td>68.940002</td>\n",
       "      <td>3.06</td>\n",
       "    </tr>\n",
       "    <tr>\n",
       "      <th>4</th>\n",
       "      <td>1</td>\n",
       "      <td>2014-11-15 06:30</td>\n",
       "      <td>1.25</td>\n",
       "      <td>72.33</td>\n",
       "      <td>69.239998</td>\n",
       "      <td>3.09</td>\n",
       "    </tr>\n",
       "  </tbody>\n",
       "</table>\n",
       "</div>"
      ],
      "text/plain": [
       "   Sample #        Start Time  Forecast Hour  Actual (°C)  Predicted (°C)  \\\n",
       "0         1  2014-11-15 06:30           0.25        69.67       69.750000   \n",
       "1         1  2014-11-15 06:30           0.50        71.00       69.470001   \n",
       "2         1  2014-11-15 06:30           0.75        71.67       69.379997   \n",
       "3         1  2014-11-15 06:30           1.00        72.00       68.940002   \n",
       "4         1  2014-11-15 06:30           1.25        72.33       69.239998   \n",
       "\n",
       "   Abs Error (°C)  \n",
       "0            0.09  \n",
       "1            1.53  \n",
       "2            2.29  \n",
       "3            3.06  \n",
       "4            3.09  "
      ]
     },
     "metadata": {},
     "output_type": "display_data"
    }
   ],
   "source": [
    "df_test_comparison = get_actual_vs_predicted_df(y_test_actual, y_test_pred, test_dates)\n",
    "from IPython.display import display\n",
    "display(df_test_comparison.head())  \n"
   ]
  },
  {
   "cell_type": "code",
   "execution_count": null,
   "id": "b844fed8",
   "metadata": {},
   "outputs": [
    {
     "data": {
      "text/html": [
       "<div>\n",
       "<style scoped>\n",
       "    .dataframe tbody tr th:only-of-type {\n",
       "        vertical-align: middle;\n",
       "    }\n",
       "\n",
       "    .dataframe tbody tr th {\n",
       "        vertical-align: top;\n",
       "    }\n",
       "\n",
       "    .dataframe thead th {\n",
       "        text-align: right;\n",
       "    }\n",
       "</style>\n",
       "<table border=\"1\" class=\"dataframe\">\n",
       "  <thead>\n",
       "    <tr style=\"text-align: right;\">\n",
       "      <th></th>\n",
       "      <th>Sample #</th>\n",
       "      <th>Start Time</th>\n",
       "      <th>Forecast Hour</th>\n",
       "      <th>Actual (°C)</th>\n",
       "      <th>Predicted (°C)</th>\n",
       "      <th>Abs Error (°C)</th>\n",
       "    </tr>\n",
       "  </thead>\n",
       "  <tbody>\n",
       "    <tr>\n",
       "      <th>3835</th>\n",
       "      <td>20</td>\n",
       "      <td>2014-09-13 06:45</td>\n",
       "      <td>47.00</td>\n",
       "      <td>31.0</td>\n",
       "      <td>36.480000</td>\n",
       "      <td>5.48</td>\n",
       "    </tr>\n",
       "    <tr>\n",
       "      <th>3836</th>\n",
       "      <td>20</td>\n",
       "      <td>2014-09-13 06:45</td>\n",
       "      <td>47.25</td>\n",
       "      <td>31.0</td>\n",
       "      <td>36.490002</td>\n",
       "      <td>5.49</td>\n",
       "    </tr>\n",
       "    <tr>\n",
       "      <th>3837</th>\n",
       "      <td>20</td>\n",
       "      <td>2014-09-13 06:45</td>\n",
       "      <td>47.50</td>\n",
       "      <td>31.0</td>\n",
       "      <td>36.529999</td>\n",
       "      <td>5.53</td>\n",
       "    </tr>\n",
       "    <tr>\n",
       "      <th>3838</th>\n",
       "      <td>20</td>\n",
       "      <td>2014-09-13 06:45</td>\n",
       "      <td>47.75</td>\n",
       "      <td>31.0</td>\n",
       "      <td>36.580002</td>\n",
       "      <td>5.58</td>\n",
       "    </tr>\n",
       "    <tr>\n",
       "      <th>3839</th>\n",
       "      <td>20</td>\n",
       "      <td>2014-09-13 06:45</td>\n",
       "      <td>48.00</td>\n",
       "      <td>31.0</td>\n",
       "      <td>36.810001</td>\n",
       "      <td>5.81</td>\n",
       "    </tr>\n",
       "  </tbody>\n",
       "</table>\n",
       "</div>"
      ],
      "text/plain": [
       "      Sample #        Start Time  Forecast Hour  Actual (°C)  Predicted (°C)  \\\n",
       "3835        20  2014-09-13 06:45          47.00         31.0       36.480000   \n",
       "3836        20  2014-09-13 06:45          47.25         31.0       36.490002   \n",
       "3837        20  2014-09-13 06:45          47.50         31.0       36.529999   \n",
       "3838        20  2014-09-13 06:45          47.75         31.0       36.580002   \n",
       "3839        20  2014-09-13 06:45          48.00         31.0       36.810001   \n",
       "\n",
       "      Abs Error (°C)  \n",
       "3835            5.48  \n",
       "3836            5.49  \n",
       "3837            5.53  \n",
       "3838            5.58  \n",
       "3839            5.81  "
      ]
     },
     "metadata": {},
     "output_type": "display_data"
    }
   ],
   "source": [
    "display(df_test_comparison.tail()) \n"
   ]
  },
  {
   "cell_type": "code",
   "execution_count": 124,
   "id": "a1a71b9a",
   "metadata": {},
   "outputs": [
    {
     "name": "stdout",
     "output_type": "stream",
     "text": [
      "85th percentile (NumPy): 70.00 °C\n"
     ]
    }
   ],
   "source": [
    "percentile_95 = np.percentile(df_30min['wtrm_avg_TrmTmp_Gbx'], 85)\n",
    "print(f\"85th percentile (NumPy): {percentile_95:.2f} °C\")"
   ]
  },
  {
   "cell_type": "code",
   "execution_count": 93,
   "id": "11d1a2e4",
   "metadata": {},
   "outputs": [
    {
     "name": "stdout",
     "output_type": "stream",
     "text": [
      "\u001b[1m468/468\u001b[0m \u001b[32m━━━━━━━━━━━━━━━━━━━━\u001b[0m\u001b[37m\u001b[0m \u001b[1m6s\u001b[0m 13ms/step\n",
      "\u001b[1m468/468\u001b[0m \u001b[32m━━━━━━━━━━━━━━━━━━━━\u001b[0m\u001b[37m\u001b[0m \u001b[1m6s\u001b[0m 13ms/step\n",
      "\u001b[1m468/468\u001b[0m \u001b[32m━━━━━━━━━━━━━━━━━━━━\u001b[0m\u001b[37m\u001b[0m \u001b[1m6s\u001b[0m 13ms/step\n",
      "\u001b[1m468/468\u001b[0m \u001b[32m━━━━━━━━━━━━━━━━━━━━\u001b[0m\u001b[37m\u001b[0m \u001b[1m6s\u001b[0m 13ms/step\n",
      "\u001b[1m468/468\u001b[0m \u001b[32m━━━━━━━━━━━━━━━━━━━━\u001b[0m\u001b[37m\u001b[0m \u001b[1m6s\u001b[0m 13ms/step\n",
      "\u001b[1m468/468\u001b[0m \u001b[32m━━━━━━━━━━━━━━━━━━━━\u001b[0m\u001b[37m\u001b[0m \u001b[1m6s\u001b[0m 13ms/step\n",
      "\u001b[1m468/468\u001b[0m \u001b[32m━━━━━━━━━━━━━━━━━━━━\u001b[0m\u001b[37m\u001b[0m \u001b[1m6s\u001b[0m 13ms/step\n",
      "\u001b[1m468/468\u001b[0m \u001b[32m━━━━━━━━━━━━━━━━━━━━\u001b[0m\u001b[37m\u001b[0m \u001b[1m6s\u001b[0m 13ms/step\n",
      "\u001b[1m468/468\u001b[0m \u001b[32m━━━━━━━━━━━━━━━━━━━━\u001b[0m\u001b[37m\u001b[0m \u001b[1m6s\u001b[0m 13ms/step\n",
      "\u001b[1m468/468\u001b[0m \u001b[32m━━━━━━━━━━━━━━━━━━━━\u001b[0m\u001b[37m\u001b[0m \u001b[1m6s\u001b[0m 12ms/step\n",
      "\u001b[1m468/468\u001b[0m \u001b[32m━━━━━━━━━━━━━━━━━━━━\u001b[0m\u001b[37m\u001b[0m \u001b[1m6s\u001b[0m 12ms/step\n",
      "\u001b[1m468/468\u001b[0m \u001b[32m━━━━━━━━━━━━━━━━━━━━\u001b[0m\u001b[37m\u001b[0m \u001b[1m6s\u001b[0m 12ms/step\n",
      "\u001b[1m468/468\u001b[0m \u001b[32m━━━━━━━━━━━━━━━━━━━━\u001b[0m\u001b[37m\u001b[0m \u001b[1m6s\u001b[0m 12ms/step\n",
      "\u001b[1m468/468\u001b[0m \u001b[32m━━━━━━━━━━━━━━━━━━━━\u001b[0m\u001b[37m\u001b[0m \u001b[1m6s\u001b[0m 12ms/step\n",
      "\u001b[1m468/468\u001b[0m \u001b[32m━━━━━━━━━━━━━━━━━━━━\u001b[0m\u001b[37m\u001b[0m \u001b[1m6s\u001b[0m 12ms/step\n",
      "\u001b[1m468/468\u001b[0m \u001b[32m━━━━━━━━━━━━━━━━━━━━\u001b[0m\u001b[37m\u001b[0m \u001b[1m6s\u001b[0m 12ms/step\n",
      "\u001b[1m468/468\u001b[0m \u001b[32m━━━━━━━━━━━━━━━━━━━━\u001b[0m\u001b[37m\u001b[0m \u001b[1m5s\u001b[0m 12ms/step\n",
      "\u001b[1m468/468\u001b[0m \u001b[32m━━━━━━━━━━━━━━━━━━━━\u001b[0m\u001b[37m\u001b[0m \u001b[1m5s\u001b[0m 12ms/step\n",
      "\u001b[1m468/468\u001b[0m \u001b[32m━━━━━━━━━━━━━━━━━━━━\u001b[0m\u001b[37m\u001b[0m \u001b[1m6s\u001b[0m 12ms/step\n",
      "\u001b[1m468/468\u001b[0m \u001b[32m━━━━━━━━━━━━━━━━━━━━\u001b[0m\u001b[37m\u001b[0m \u001b[1m6s\u001b[0m 12ms/step\n",
      "\u001b[1m468/468\u001b[0m \u001b[32m━━━━━━━━━━━━━━━━━━━━\u001b[0m\u001b[37m\u001b[0m \u001b[1m6s\u001b[0m 12ms/step\n",
      "\u001b[1m468/468\u001b[0m \u001b[32m━━━━━━━━━━━━━━━━━━━━\u001b[0m\u001b[37m\u001b[0m \u001b[1m6s\u001b[0m 12ms/step\n"
     ]
    }
   ],
   "source": [
    "from sklearn.metrics import mean_absolute_error\n",
    "import numpy as np\n",
    "\n",
    "baseline_preds = model.predict(X_val_scaled)\n",
    "baseline_mae = mean_absolute_error(y_val_scaled, baseline_preds)\n",
    "\n",
    "importances = []\n",
    "\n",
    "for i in range(X_val_scaled.shape[2]):\n",
    "    X_permuted = X_val_scaled.copy()\n",
    "    X_permuted[:, :, i] = np.random.permutation(X_permuted[:, :, i])\n",
    "    preds = model.predict(X_permuted)\n",
    "    perm_mae = mean_absolute_error(y_val_scaled, preds)\n",
    "    importances.append(perm_mae - baseline_mae)\n",
    "\n",
    "\n"
   ]
  },
  {
   "cell_type": "code",
   "execution_count": 94,
   "id": "901c75e6",
   "metadata": {},
   "outputs": [
    {
     "data": {
      "text/plain": [
       "array(['alarm_frequency_24h', 'alarm_system', 'day_of_week', 'hour_cos',\n",
       "       'hour_sin', 'recent_alarm_flag', 'wgdc_avg_TriGri_PwrAt',\n",
       "       'wgdc_avg_TriGri_PwrAt_delta_1h', 'wgen_avg_Spd',\n",
       "       'wgen_avg_Spd_delta_1h', 'wtrm_avg_Gbx_OilPres',\n",
       "       'wtrm_avg_TrmTmp_GbxBrg151', 'wtrm_avg_TrmTmp_GbxBrg151_lag_0.5h',\n",
       "       'wtrm_avg_TrmTmp_GbxBrg452', 'wtrm_avg_TrmTmp_GbxBrg452_lag_0.5h',\n",
       "       'wtrm_avg_TrmTmp_Gbx_delta_1h', 'wtrm_avg_TrmTmp_Gbx_lag_0.5h',\n",
       "       'wtrm_avg_TrmTmp_Gbx_lag_1.0h', 'wtrm_avg_TrmTmp_Gbx_lag_2.0h',\n",
       "       'wtrm_avg_TrmTmp_Gbx_lag_4.0h',\n",
       "       'wtrm_avg_TrmTmp_Gbx_rolling_mean_3.0h'], dtype='<U37')"
      ]
     },
     "execution_count": 94,
     "metadata": {},
     "output_type": "execute_result"
    }
   ],
   "source": [
    "# # Plot\n",
    "import matplotlib.pyplot as plt\n",
    "# common_features = np.array(df_clean.columns)\n",
    "common_features = np.array(common_features)\n",
    "\n",
    "common_features"
   ]
  },
  {
   "cell_type": "code",
   "execution_count": 95,
   "id": "b90b86d2",
   "metadata": {},
   "outputs": [
    {
     "name": "stdout",
     "output_type": "stream",
     "text": [
      "X_val_scaled shape: (14960, 288, 21)\n",
      "Available features: 21\n"
     ]
    }
   ],
   "source": [
    "print(\"X_val_scaled shape:\", X_val_scaled.shape)  # (samples, timesteps, features)\n",
    "print(\"Available features:\", len(common_features))\n"
   ]
  },
  {
   "cell_type": "code",
   "execution_count": 96,
   "id": "da3d68e5",
   "metadata": {},
   "outputs": [
    {
     "data": {
      "image/png": "[encoded data removed]",
      "text/plain": [
       "<Figure size 1200x600 with 1 Axes>"
      ]
     },
     "metadata": {},
     "output_type": "display_data"
    }
   ],
   "source": [
    "import matplotlib.pyplot as plt\n",
    "import numpy as np\n",
    "\n",
    "common_features = np.array(common_features)\n",
    "importances = np.array(importances)\n",
    "\n",
    "# Safe slicing\n",
    "min_len = min(len(importances), len(common_features))\n",
    "sorted_idx = np.argsort(importances[:min_len])[::-1]\n",
    "\n",
    "plt.figure(figsize=(12, 6))\n",
    "plt.bar(range(min_len), importances[sorted_idx])\n",
    "plt.xticks(range(min_len), common_features[sorted_idx], rotation=90)\n",
    "plt.title(\"Permutation Importance (MAE Increase)\")\n",
    "plt.tight_layout()\n",
    "plt.show()\n"
   ]
  },
  {
   "cell_type": "code",
   "execution_count": 54,
   "id": "26094f13",
   "metadata": {},
   "outputs": [
    {
     "name": "stderr",
     "output_type": "stream",
     "text": [
      "WARNING:absl:You are saving your model as an HDF5 file via `model.save()` or `keras.saving.save_model(model)`. This file format is considered legacy. We recommend using instead the native Keras format, e.g. `model.save('my_model.keras')` or `keras.saving.save_model(model, 'my_model.keras')`. \n"
     ]
    }
   ],
   "source": [
    "model.save('improved_model.h5')\n"
   ]
  },
  {
   "cell_type": "code",
   "execution_count": 55,
   "id": "31d3a537",
   "metadata": {},
   "outputs": [
    {
     "data": {
      "text/plain": [
       "['target_scaler.pkl']"
      ]
     },
     "execution_count": 55,
     "metadata": {},
     "output_type": "execute_result"
    }
   ],
   "source": [
    "import joblib\n",
    "joblib.dump(feature_scaler, 'feature_scaler.pkl')\n",
    "joblib.dump(target_scaler, 'target_scaler.pkl')\n"
   ]
  },
  {
   "cell_type": "code",
   "execution_count": 56,
   "id": "c8127e4b",
   "metadata": {},
   "outputs": [],
   "source": [
    "import json\n",
    "with open('common_features.json', 'w') as f:\n",
    "    json.dump(common_features, f)\n"
   ]
  },
  {
   "cell_type": "code",
   "execution_count": null,
   "id": "506eb0d6",
   "metadata": {},
   "outputs": [],
   "source": []
  }
 ],
 "metadata": {
  "kernelspec": {
   "display_name": "gearbox-lstm-env",
   "language": "python",
   "name": "python3"
  },
  "language_info": {
   "codemirror_mode": {
    "name": "ipython",
    "version": 3
   },
   "file_extension": ".py",
   "mimetype": "text/x-python",
   "name": "python",
   "nbconvert_exporter": "python",
   "pygments_lexer": "ipython3",
   "version": "3.12.10"
  }
 },
 "nbformat": 4,
 "nbformat_minor": 5
}
